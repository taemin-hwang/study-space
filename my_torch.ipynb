{
  "nbformat": 4,
  "nbformat_minor": 0,
  "metadata": {
    "colab": {
      "name": "my_torch.ipynb",
      "provenance": [],
      "collapsed_sections": [],
      "authorship_tag": "ABX9TyM0I3/XgCHZ/lTpt7bkN/k4",
      "include_colab_link": true
    },
    "kernelspec": {
      "name": "python3",
      "display_name": "Python 3"
    },
    "language_info": {
      "name": "python"
    },
    "accelerator": "GPU",
    "widgets": {
      "application/vnd.jupyter.widget-state+json": {
        "1af8aae2fdbb4b4eb8d0c83425cd2af3": {
          "model_module": "@jupyter-widgets/controls",
          "model_name": "HBoxModel",
          "model_module_version": "1.5.0",
          "state": {
            "_dom_classes": [],
            "_model_module": "@jupyter-widgets/controls",
            "_model_module_version": "1.5.0",
            "_model_name": "HBoxModel",
            "_view_count": null,
            "_view_module": "@jupyter-widgets/controls",
            "_view_module_version": "1.5.0",
            "_view_name": "HBoxView",
            "box_style": "",
            "children": [
              "IPY_MODEL_a69dfcd287e345718cac52f3b1a8c415",
              "IPY_MODEL_02bff3846c07421cbfeb10180b1c4938",
              "IPY_MODEL_4c872835778249eba6ac4fe14b581136"
            ],
            "layout": "IPY_MODEL_29c859b7438a466f8eb42ff5e1a8db45"
          }
        },
        "a69dfcd287e345718cac52f3b1a8c415": {
          "model_module": "@jupyter-widgets/controls",
          "model_name": "HTMLModel",
          "model_module_version": "1.5.0",
          "state": {
            "_dom_classes": [],
            "_model_module": "@jupyter-widgets/controls",
            "_model_module_version": "1.5.0",
            "_model_name": "HTMLModel",
            "_view_count": null,
            "_view_module": "@jupyter-widgets/controls",
            "_view_module_version": "1.5.0",
            "_view_name": "HTMLView",
            "description": "",
            "description_tooltip": null,
            "layout": "IPY_MODEL_32ad593ae38f489dbfeb203684f96247",
            "placeholder": "​",
            "style": "IPY_MODEL_18d9c23c1c644d97949c4a192014bc88",
            "value": ""
          }
        },
        "02bff3846c07421cbfeb10180b1c4938": {
          "model_module": "@jupyter-widgets/controls",
          "model_name": "FloatProgressModel",
          "model_module_version": "1.5.0",
          "state": {
            "_dom_classes": [],
            "_model_module": "@jupyter-widgets/controls",
            "_model_module_version": "1.5.0",
            "_model_name": "FloatProgressModel",
            "_view_count": null,
            "_view_module": "@jupyter-widgets/controls",
            "_view_module_version": "1.5.0",
            "_view_name": "ProgressView",
            "bar_style": "success",
            "description": "",
            "description_tooltip": null,
            "layout": "IPY_MODEL_e550fac2cd9c450dbab6a20ab2515bdd",
            "max": 26421880,
            "min": 0,
            "orientation": "horizontal",
            "style": "IPY_MODEL_dca4aa314da445ba937ccccc7af12de3",
            "value": 26421880
          }
        },
        "4c872835778249eba6ac4fe14b581136": {
          "model_module": "@jupyter-widgets/controls",
          "model_name": "HTMLModel",
          "model_module_version": "1.5.0",
          "state": {
            "_dom_classes": [],
            "_model_module": "@jupyter-widgets/controls",
            "_model_module_version": "1.5.0",
            "_model_name": "HTMLModel",
            "_view_count": null,
            "_view_module": "@jupyter-widgets/controls",
            "_view_module_version": "1.5.0",
            "_view_name": "HTMLView",
            "description": "",
            "description_tooltip": null,
            "layout": "IPY_MODEL_e5df0d75ed0f4d49ab299418b9f17770",
            "placeholder": "​",
            "style": "IPY_MODEL_df6e8c13b734466bbc8040502bea184b",
            "value": " 26422272/? [00:02&lt;00:00, 17905042.47it/s]"
          }
        },
        "29c859b7438a466f8eb42ff5e1a8db45": {
          "model_module": "@jupyter-widgets/base",
          "model_name": "LayoutModel",
          "model_module_version": "1.2.0",
          "state": {
            "_model_module": "@jupyter-widgets/base",
            "_model_module_version": "1.2.0",
            "_model_name": "LayoutModel",
            "_view_count": null,
            "_view_module": "@jupyter-widgets/base",
            "_view_module_version": "1.2.0",
            "_view_name": "LayoutView",
            "align_content": null,
            "align_items": null,
            "align_self": null,
            "border": null,
            "bottom": null,
            "display": null,
            "flex": null,
            "flex_flow": null,
            "grid_area": null,
            "grid_auto_columns": null,
            "grid_auto_flow": null,
            "grid_auto_rows": null,
            "grid_column": null,
            "grid_gap": null,
            "grid_row": null,
            "grid_template_areas": null,
            "grid_template_columns": null,
            "grid_template_rows": null,
            "height": null,
            "justify_content": null,
            "justify_items": null,
            "left": null,
            "margin": null,
            "max_height": null,
            "max_width": null,
            "min_height": null,
            "min_width": null,
            "object_fit": null,
            "object_position": null,
            "order": null,
            "overflow": null,
            "overflow_x": null,
            "overflow_y": null,
            "padding": null,
            "right": null,
            "top": null,
            "visibility": null,
            "width": null
          }
        },
        "32ad593ae38f489dbfeb203684f96247": {
          "model_module": "@jupyter-widgets/base",
          "model_name": "LayoutModel",
          "model_module_version": "1.2.0",
          "state": {
            "_model_module": "@jupyter-widgets/base",
            "_model_module_version": "1.2.0",
            "_model_name": "LayoutModel",
            "_view_count": null,
            "_view_module": "@jupyter-widgets/base",
            "_view_module_version": "1.2.0",
            "_view_name": "LayoutView",
            "align_content": null,
            "align_items": null,
            "align_self": null,
            "border": null,
            "bottom": null,
            "display": null,
            "flex": null,
            "flex_flow": null,
            "grid_area": null,
            "grid_auto_columns": null,
            "grid_auto_flow": null,
            "grid_auto_rows": null,
            "grid_column": null,
            "grid_gap": null,
            "grid_row": null,
            "grid_template_areas": null,
            "grid_template_columns": null,
            "grid_template_rows": null,
            "height": null,
            "justify_content": null,
            "justify_items": null,
            "left": null,
            "margin": null,
            "max_height": null,
            "max_width": null,
            "min_height": null,
            "min_width": null,
            "object_fit": null,
            "object_position": null,
            "order": null,
            "overflow": null,
            "overflow_x": null,
            "overflow_y": null,
            "padding": null,
            "right": null,
            "top": null,
            "visibility": null,
            "width": null
          }
        },
        "18d9c23c1c644d97949c4a192014bc88": {
          "model_module": "@jupyter-widgets/controls",
          "model_name": "DescriptionStyleModel",
          "model_module_version": "1.5.0",
          "state": {
            "_model_module": "@jupyter-widgets/controls",
            "_model_module_version": "1.5.0",
            "_model_name": "DescriptionStyleModel",
            "_view_count": null,
            "_view_module": "@jupyter-widgets/base",
            "_view_module_version": "1.2.0",
            "_view_name": "StyleView",
            "description_width": ""
          }
        },
        "e550fac2cd9c450dbab6a20ab2515bdd": {
          "model_module": "@jupyter-widgets/base",
          "model_name": "LayoutModel",
          "model_module_version": "1.2.0",
          "state": {
            "_model_module": "@jupyter-widgets/base",
            "_model_module_version": "1.2.0",
            "_model_name": "LayoutModel",
            "_view_count": null,
            "_view_module": "@jupyter-widgets/base",
            "_view_module_version": "1.2.0",
            "_view_name": "LayoutView",
            "align_content": null,
            "align_items": null,
            "align_self": null,
            "border": null,
            "bottom": null,
            "display": null,
            "flex": null,
            "flex_flow": null,
            "grid_area": null,
            "grid_auto_columns": null,
            "grid_auto_flow": null,
            "grid_auto_rows": null,
            "grid_column": null,
            "grid_gap": null,
            "grid_row": null,
            "grid_template_areas": null,
            "grid_template_columns": null,
            "grid_template_rows": null,
            "height": null,
            "justify_content": null,
            "justify_items": null,
            "left": null,
            "margin": null,
            "max_height": null,
            "max_width": null,
            "min_height": null,
            "min_width": null,
            "object_fit": null,
            "object_position": null,
            "order": null,
            "overflow": null,
            "overflow_x": null,
            "overflow_y": null,
            "padding": null,
            "right": null,
            "top": null,
            "visibility": null,
            "width": null
          }
        },
        "dca4aa314da445ba937ccccc7af12de3": {
          "model_module": "@jupyter-widgets/controls",
          "model_name": "ProgressStyleModel",
          "model_module_version": "1.5.0",
          "state": {
            "_model_module": "@jupyter-widgets/controls",
            "_model_module_version": "1.5.0",
            "_model_name": "ProgressStyleModel",
            "_view_count": null,
            "_view_module": "@jupyter-widgets/base",
            "_view_module_version": "1.2.0",
            "_view_name": "StyleView",
            "bar_color": null,
            "description_width": ""
          }
        },
        "e5df0d75ed0f4d49ab299418b9f17770": {
          "model_module": "@jupyter-widgets/base",
          "model_name": "LayoutModel",
          "model_module_version": "1.2.0",
          "state": {
            "_model_module": "@jupyter-widgets/base",
            "_model_module_version": "1.2.0",
            "_model_name": "LayoutModel",
            "_view_count": null,
            "_view_module": "@jupyter-widgets/base",
            "_view_module_version": "1.2.0",
            "_view_name": "LayoutView",
            "align_content": null,
            "align_items": null,
            "align_self": null,
            "border": null,
            "bottom": null,
            "display": null,
            "flex": null,
            "flex_flow": null,
            "grid_area": null,
            "grid_auto_columns": null,
            "grid_auto_flow": null,
            "grid_auto_rows": null,
            "grid_column": null,
            "grid_gap": null,
            "grid_row": null,
            "grid_template_areas": null,
            "grid_template_columns": null,
            "grid_template_rows": null,
            "height": null,
            "justify_content": null,
            "justify_items": null,
            "left": null,
            "margin": null,
            "max_height": null,
            "max_width": null,
            "min_height": null,
            "min_width": null,
            "object_fit": null,
            "object_position": null,
            "order": null,
            "overflow": null,
            "overflow_x": null,
            "overflow_y": null,
            "padding": null,
            "right": null,
            "top": null,
            "visibility": null,
            "width": null
          }
        },
        "df6e8c13b734466bbc8040502bea184b": {
          "model_module": "@jupyter-widgets/controls",
          "model_name": "DescriptionStyleModel",
          "model_module_version": "1.5.0",
          "state": {
            "_model_module": "@jupyter-widgets/controls",
            "_model_module_version": "1.5.0",
            "_model_name": "DescriptionStyleModel",
            "_view_count": null,
            "_view_module": "@jupyter-widgets/base",
            "_view_module_version": "1.2.0",
            "_view_name": "StyleView",
            "description_width": ""
          }
        },
        "e29c7620969d442cafcdc8c002377d90": {
          "model_module": "@jupyter-widgets/controls",
          "model_name": "HBoxModel",
          "model_module_version": "1.5.0",
          "state": {
            "_dom_classes": [],
            "_model_module": "@jupyter-widgets/controls",
            "_model_module_version": "1.5.0",
            "_model_name": "HBoxModel",
            "_view_count": null,
            "_view_module": "@jupyter-widgets/controls",
            "_view_module_version": "1.5.0",
            "_view_name": "HBoxView",
            "box_style": "",
            "children": [
              "IPY_MODEL_968ad1e0c7eb4037ae712a94123e589f",
              "IPY_MODEL_436a1ecb61224bbe8ecda0505b2aef14",
              "IPY_MODEL_5899abb15c0a47a38c76f242c86ecb56"
            ],
            "layout": "IPY_MODEL_ea17de6c2132427c91c2509c7c13886f"
          }
        },
        "968ad1e0c7eb4037ae712a94123e589f": {
          "model_module": "@jupyter-widgets/controls",
          "model_name": "HTMLModel",
          "model_module_version": "1.5.0",
          "state": {
            "_dom_classes": [],
            "_model_module": "@jupyter-widgets/controls",
            "_model_module_version": "1.5.0",
            "_model_name": "HTMLModel",
            "_view_count": null,
            "_view_module": "@jupyter-widgets/controls",
            "_view_module_version": "1.5.0",
            "_view_name": "HTMLView",
            "description": "",
            "description_tooltip": null,
            "layout": "IPY_MODEL_3b2cf30e7ff0465a80c7be17b520c466",
            "placeholder": "​",
            "style": "IPY_MODEL_c832e144b7d24bc682027871f14c2eca",
            "value": ""
          }
        },
        "436a1ecb61224bbe8ecda0505b2aef14": {
          "model_module": "@jupyter-widgets/controls",
          "model_name": "FloatProgressModel",
          "model_module_version": "1.5.0",
          "state": {
            "_dom_classes": [],
            "_model_module": "@jupyter-widgets/controls",
            "_model_module_version": "1.5.0",
            "_model_name": "FloatProgressModel",
            "_view_count": null,
            "_view_module": "@jupyter-widgets/controls",
            "_view_module_version": "1.5.0",
            "_view_name": "ProgressView",
            "bar_style": "success",
            "description": "",
            "description_tooltip": null,
            "layout": "IPY_MODEL_19cf9a2347e64b34bad4ca9064389ac9",
            "max": 29515,
            "min": 0,
            "orientation": "horizontal",
            "style": "IPY_MODEL_b94d7d28788a446eb2950597530566b9",
            "value": 29515
          }
        },
        "5899abb15c0a47a38c76f242c86ecb56": {
          "model_module": "@jupyter-widgets/controls",
          "model_name": "HTMLModel",
          "model_module_version": "1.5.0",
          "state": {
            "_dom_classes": [],
            "_model_module": "@jupyter-widgets/controls",
            "_model_module_version": "1.5.0",
            "_model_name": "HTMLModel",
            "_view_count": null,
            "_view_module": "@jupyter-widgets/controls",
            "_view_module_version": "1.5.0",
            "_view_name": "HTMLView",
            "description": "",
            "description_tooltip": null,
            "layout": "IPY_MODEL_bf065100254242a28975f9eb33be47a1",
            "placeholder": "​",
            "style": "IPY_MODEL_508612605e264e2b9505379f5c309e1e",
            "value": " 29696/? [00:00&lt;00:00, 103624.10it/s]"
          }
        },
        "ea17de6c2132427c91c2509c7c13886f": {
          "model_module": "@jupyter-widgets/base",
          "model_name": "LayoutModel",
          "model_module_version": "1.2.0",
          "state": {
            "_model_module": "@jupyter-widgets/base",
            "_model_module_version": "1.2.0",
            "_model_name": "LayoutModel",
            "_view_count": null,
            "_view_module": "@jupyter-widgets/base",
            "_view_module_version": "1.2.0",
            "_view_name": "LayoutView",
            "align_content": null,
            "align_items": null,
            "align_self": null,
            "border": null,
            "bottom": null,
            "display": null,
            "flex": null,
            "flex_flow": null,
            "grid_area": null,
            "grid_auto_columns": null,
            "grid_auto_flow": null,
            "grid_auto_rows": null,
            "grid_column": null,
            "grid_gap": null,
            "grid_row": null,
            "grid_template_areas": null,
            "grid_template_columns": null,
            "grid_template_rows": null,
            "height": null,
            "justify_content": null,
            "justify_items": null,
            "left": null,
            "margin": null,
            "max_height": null,
            "max_width": null,
            "min_height": null,
            "min_width": null,
            "object_fit": null,
            "object_position": null,
            "order": null,
            "overflow": null,
            "overflow_x": null,
            "overflow_y": null,
            "padding": null,
            "right": null,
            "top": null,
            "visibility": null,
            "width": null
          }
        },
        "3b2cf30e7ff0465a80c7be17b520c466": {
          "model_module": "@jupyter-widgets/base",
          "model_name": "LayoutModel",
          "model_module_version": "1.2.0",
          "state": {
            "_model_module": "@jupyter-widgets/base",
            "_model_module_version": "1.2.0",
            "_model_name": "LayoutModel",
            "_view_count": null,
            "_view_module": "@jupyter-widgets/base",
            "_view_module_version": "1.2.0",
            "_view_name": "LayoutView",
            "align_content": null,
            "align_items": null,
            "align_self": null,
            "border": null,
            "bottom": null,
            "display": null,
            "flex": null,
            "flex_flow": null,
            "grid_area": null,
            "grid_auto_columns": null,
            "grid_auto_flow": null,
            "grid_auto_rows": null,
            "grid_column": null,
            "grid_gap": null,
            "grid_row": null,
            "grid_template_areas": null,
            "grid_template_columns": null,
            "grid_template_rows": null,
            "height": null,
            "justify_content": null,
            "justify_items": null,
            "left": null,
            "margin": null,
            "max_height": null,
            "max_width": null,
            "min_height": null,
            "min_width": null,
            "object_fit": null,
            "object_position": null,
            "order": null,
            "overflow": null,
            "overflow_x": null,
            "overflow_y": null,
            "padding": null,
            "right": null,
            "top": null,
            "visibility": null,
            "width": null
          }
        },
        "c832e144b7d24bc682027871f14c2eca": {
          "model_module": "@jupyter-widgets/controls",
          "model_name": "DescriptionStyleModel",
          "model_module_version": "1.5.0",
          "state": {
            "_model_module": "@jupyter-widgets/controls",
            "_model_module_version": "1.5.0",
            "_model_name": "DescriptionStyleModel",
            "_view_count": null,
            "_view_module": "@jupyter-widgets/base",
            "_view_module_version": "1.2.0",
            "_view_name": "StyleView",
            "description_width": ""
          }
        },
        "19cf9a2347e64b34bad4ca9064389ac9": {
          "model_module": "@jupyter-widgets/base",
          "model_name": "LayoutModel",
          "model_module_version": "1.2.0",
          "state": {
            "_model_module": "@jupyter-widgets/base",
            "_model_module_version": "1.2.0",
            "_model_name": "LayoutModel",
            "_view_count": null,
            "_view_module": "@jupyter-widgets/base",
            "_view_module_version": "1.2.0",
            "_view_name": "LayoutView",
            "align_content": null,
            "align_items": null,
            "align_self": null,
            "border": null,
            "bottom": null,
            "display": null,
            "flex": null,
            "flex_flow": null,
            "grid_area": null,
            "grid_auto_columns": null,
            "grid_auto_flow": null,
            "grid_auto_rows": null,
            "grid_column": null,
            "grid_gap": null,
            "grid_row": null,
            "grid_template_areas": null,
            "grid_template_columns": null,
            "grid_template_rows": null,
            "height": null,
            "justify_content": null,
            "justify_items": null,
            "left": null,
            "margin": null,
            "max_height": null,
            "max_width": null,
            "min_height": null,
            "min_width": null,
            "object_fit": null,
            "object_position": null,
            "order": null,
            "overflow": null,
            "overflow_x": null,
            "overflow_y": null,
            "padding": null,
            "right": null,
            "top": null,
            "visibility": null,
            "width": null
          }
        },
        "b94d7d28788a446eb2950597530566b9": {
          "model_module": "@jupyter-widgets/controls",
          "model_name": "ProgressStyleModel",
          "model_module_version": "1.5.0",
          "state": {
            "_model_module": "@jupyter-widgets/controls",
            "_model_module_version": "1.5.0",
            "_model_name": "ProgressStyleModel",
            "_view_count": null,
            "_view_module": "@jupyter-widgets/base",
            "_view_module_version": "1.2.0",
            "_view_name": "StyleView",
            "bar_color": null,
            "description_width": ""
          }
        },
        "bf065100254242a28975f9eb33be47a1": {
          "model_module": "@jupyter-widgets/base",
          "model_name": "LayoutModel",
          "model_module_version": "1.2.0",
          "state": {
            "_model_module": "@jupyter-widgets/base",
            "_model_module_version": "1.2.0",
            "_model_name": "LayoutModel",
            "_view_count": null,
            "_view_module": "@jupyter-widgets/base",
            "_view_module_version": "1.2.0",
            "_view_name": "LayoutView",
            "align_content": null,
            "align_items": null,
            "align_self": null,
            "border": null,
            "bottom": null,
            "display": null,
            "flex": null,
            "flex_flow": null,
            "grid_area": null,
            "grid_auto_columns": null,
            "grid_auto_flow": null,
            "grid_auto_rows": null,
            "grid_column": null,
            "grid_gap": null,
            "grid_row": null,
            "grid_template_areas": null,
            "grid_template_columns": null,
            "grid_template_rows": null,
            "height": null,
            "justify_content": null,
            "justify_items": null,
            "left": null,
            "margin": null,
            "max_height": null,
            "max_width": null,
            "min_height": null,
            "min_width": null,
            "object_fit": null,
            "object_position": null,
            "order": null,
            "overflow": null,
            "overflow_x": null,
            "overflow_y": null,
            "padding": null,
            "right": null,
            "top": null,
            "visibility": null,
            "width": null
          }
        },
        "508612605e264e2b9505379f5c309e1e": {
          "model_module": "@jupyter-widgets/controls",
          "model_name": "DescriptionStyleModel",
          "model_module_version": "1.5.0",
          "state": {
            "_model_module": "@jupyter-widgets/controls",
            "_model_module_version": "1.5.0",
            "_model_name": "DescriptionStyleModel",
            "_view_count": null,
            "_view_module": "@jupyter-widgets/base",
            "_view_module_version": "1.2.0",
            "_view_name": "StyleView",
            "description_width": ""
          }
        },
        "9081730580cc4cd2afb42d6d7a79e957": {
          "model_module": "@jupyter-widgets/controls",
          "model_name": "HBoxModel",
          "model_module_version": "1.5.0",
          "state": {
            "_dom_classes": [],
            "_model_module": "@jupyter-widgets/controls",
            "_model_module_version": "1.5.0",
            "_model_name": "HBoxModel",
            "_view_count": null,
            "_view_module": "@jupyter-widgets/controls",
            "_view_module_version": "1.5.0",
            "_view_name": "HBoxView",
            "box_style": "",
            "children": [
              "IPY_MODEL_dd543148892e42ebb85003e5426f92ec",
              "IPY_MODEL_48c84609788a4e06b22f58db13bcd91b",
              "IPY_MODEL_70c87144cd6f415ba843780ef3b95596"
            ],
            "layout": "IPY_MODEL_83c3959ee9714a2bb1b80bcc44c6e081"
          }
        },
        "dd543148892e42ebb85003e5426f92ec": {
          "model_module": "@jupyter-widgets/controls",
          "model_name": "HTMLModel",
          "model_module_version": "1.5.0",
          "state": {
            "_dom_classes": [],
            "_model_module": "@jupyter-widgets/controls",
            "_model_module_version": "1.5.0",
            "_model_name": "HTMLModel",
            "_view_count": null,
            "_view_module": "@jupyter-widgets/controls",
            "_view_module_version": "1.5.0",
            "_view_name": "HTMLView",
            "description": "",
            "description_tooltip": null,
            "layout": "IPY_MODEL_00ae03b0a12c48b7a905b3de1e1c32f1",
            "placeholder": "​",
            "style": "IPY_MODEL_2a677eeb264a48c4bb4c706cfbdf15df",
            "value": ""
          }
        },
        "48c84609788a4e06b22f58db13bcd91b": {
          "model_module": "@jupyter-widgets/controls",
          "model_name": "FloatProgressModel",
          "model_module_version": "1.5.0",
          "state": {
            "_dom_classes": [],
            "_model_module": "@jupyter-widgets/controls",
            "_model_module_version": "1.5.0",
            "_model_name": "FloatProgressModel",
            "_view_count": null,
            "_view_module": "@jupyter-widgets/controls",
            "_view_module_version": "1.5.0",
            "_view_name": "ProgressView",
            "bar_style": "success",
            "description": "",
            "description_tooltip": null,
            "layout": "IPY_MODEL_ea086ac3bb9d4ee1a0c0d954b7337cc4",
            "max": 4422102,
            "min": 0,
            "orientation": "horizontal",
            "style": "IPY_MODEL_fbd29ab7251948d8bf9643018436d3c9",
            "value": 4422102
          }
        },
        "70c87144cd6f415ba843780ef3b95596": {
          "model_module": "@jupyter-widgets/controls",
          "model_name": "HTMLModel",
          "model_module_version": "1.5.0",
          "state": {
            "_dom_classes": [],
            "_model_module": "@jupyter-widgets/controls",
            "_model_module_version": "1.5.0",
            "_model_name": "HTMLModel",
            "_view_count": null,
            "_view_module": "@jupyter-widgets/controls",
            "_view_module_version": "1.5.0",
            "_view_name": "HTMLView",
            "description": "",
            "description_tooltip": null,
            "layout": "IPY_MODEL_f7b15c02cd9d49b1b9cdc47ce829564b",
            "placeholder": "​",
            "style": "IPY_MODEL_fe6072ba1e714363991a5d27b778b5ca",
            "value": " 4422656/? [00:01&lt;00:00, 6039737.91it/s]"
          }
        },
        "83c3959ee9714a2bb1b80bcc44c6e081": {
          "model_module": "@jupyter-widgets/base",
          "model_name": "LayoutModel",
          "model_module_version": "1.2.0",
          "state": {
            "_model_module": "@jupyter-widgets/base",
            "_model_module_version": "1.2.0",
            "_model_name": "LayoutModel",
            "_view_count": null,
            "_view_module": "@jupyter-widgets/base",
            "_view_module_version": "1.2.0",
            "_view_name": "LayoutView",
            "align_content": null,
            "align_items": null,
            "align_self": null,
            "border": null,
            "bottom": null,
            "display": null,
            "flex": null,
            "flex_flow": null,
            "grid_area": null,
            "grid_auto_columns": null,
            "grid_auto_flow": null,
            "grid_auto_rows": null,
            "grid_column": null,
            "grid_gap": null,
            "grid_row": null,
            "grid_template_areas": null,
            "grid_template_columns": null,
            "grid_template_rows": null,
            "height": null,
            "justify_content": null,
            "justify_items": null,
            "left": null,
            "margin": null,
            "max_height": null,
            "max_width": null,
            "min_height": null,
            "min_width": null,
            "object_fit": null,
            "object_position": null,
            "order": null,
            "overflow": null,
            "overflow_x": null,
            "overflow_y": null,
            "padding": null,
            "right": null,
            "top": null,
            "visibility": null,
            "width": null
          }
        },
        "00ae03b0a12c48b7a905b3de1e1c32f1": {
          "model_module": "@jupyter-widgets/base",
          "model_name": "LayoutModel",
          "model_module_version": "1.2.0",
          "state": {
            "_model_module": "@jupyter-widgets/base",
            "_model_module_version": "1.2.0",
            "_model_name": "LayoutModel",
            "_view_count": null,
            "_view_module": "@jupyter-widgets/base",
            "_view_module_version": "1.2.0",
            "_view_name": "LayoutView",
            "align_content": null,
            "align_items": null,
            "align_self": null,
            "border": null,
            "bottom": null,
            "display": null,
            "flex": null,
            "flex_flow": null,
            "grid_area": null,
            "grid_auto_columns": null,
            "grid_auto_flow": null,
            "grid_auto_rows": null,
            "grid_column": null,
            "grid_gap": null,
            "grid_row": null,
            "grid_template_areas": null,
            "grid_template_columns": null,
            "grid_template_rows": null,
            "height": null,
            "justify_content": null,
            "justify_items": null,
            "left": null,
            "margin": null,
            "max_height": null,
            "max_width": null,
            "min_height": null,
            "min_width": null,
            "object_fit": null,
            "object_position": null,
            "order": null,
            "overflow": null,
            "overflow_x": null,
            "overflow_y": null,
            "padding": null,
            "right": null,
            "top": null,
            "visibility": null,
            "width": null
          }
        },
        "2a677eeb264a48c4bb4c706cfbdf15df": {
          "model_module": "@jupyter-widgets/controls",
          "model_name": "DescriptionStyleModel",
          "model_module_version": "1.5.0",
          "state": {
            "_model_module": "@jupyter-widgets/controls",
            "_model_module_version": "1.5.0",
            "_model_name": "DescriptionStyleModel",
            "_view_count": null,
            "_view_module": "@jupyter-widgets/base",
            "_view_module_version": "1.2.0",
            "_view_name": "StyleView",
            "description_width": ""
          }
        },
        "ea086ac3bb9d4ee1a0c0d954b7337cc4": {
          "model_module": "@jupyter-widgets/base",
          "model_name": "LayoutModel",
          "model_module_version": "1.2.0",
          "state": {
            "_model_module": "@jupyter-widgets/base",
            "_model_module_version": "1.2.0",
            "_model_name": "LayoutModel",
            "_view_count": null,
            "_view_module": "@jupyter-widgets/base",
            "_view_module_version": "1.2.0",
            "_view_name": "LayoutView",
            "align_content": null,
            "align_items": null,
            "align_self": null,
            "border": null,
            "bottom": null,
            "display": null,
            "flex": null,
            "flex_flow": null,
            "grid_area": null,
            "grid_auto_columns": null,
            "grid_auto_flow": null,
            "grid_auto_rows": null,
            "grid_column": null,
            "grid_gap": null,
            "grid_row": null,
            "grid_template_areas": null,
            "grid_template_columns": null,
            "grid_template_rows": null,
            "height": null,
            "justify_content": null,
            "justify_items": null,
            "left": null,
            "margin": null,
            "max_height": null,
            "max_width": null,
            "min_height": null,
            "min_width": null,
            "object_fit": null,
            "object_position": null,
            "order": null,
            "overflow": null,
            "overflow_x": null,
            "overflow_y": null,
            "padding": null,
            "right": null,
            "top": null,
            "visibility": null,
            "width": null
          }
        },
        "fbd29ab7251948d8bf9643018436d3c9": {
          "model_module": "@jupyter-widgets/controls",
          "model_name": "ProgressStyleModel",
          "model_module_version": "1.5.0",
          "state": {
            "_model_module": "@jupyter-widgets/controls",
            "_model_module_version": "1.5.0",
            "_model_name": "ProgressStyleModel",
            "_view_count": null,
            "_view_module": "@jupyter-widgets/base",
            "_view_module_version": "1.2.0",
            "_view_name": "StyleView",
            "bar_color": null,
            "description_width": ""
          }
        },
        "f7b15c02cd9d49b1b9cdc47ce829564b": {
          "model_module": "@jupyter-widgets/base",
          "model_name": "LayoutModel",
          "model_module_version": "1.2.0",
          "state": {
            "_model_module": "@jupyter-widgets/base",
            "_model_module_version": "1.2.0",
            "_model_name": "LayoutModel",
            "_view_count": null,
            "_view_module": "@jupyter-widgets/base",
            "_view_module_version": "1.2.0",
            "_view_name": "LayoutView",
            "align_content": null,
            "align_items": null,
            "align_self": null,
            "border": null,
            "bottom": null,
            "display": null,
            "flex": null,
            "flex_flow": null,
            "grid_area": null,
            "grid_auto_columns": null,
            "grid_auto_flow": null,
            "grid_auto_rows": null,
            "grid_column": null,
            "grid_gap": null,
            "grid_row": null,
            "grid_template_areas": null,
            "grid_template_columns": null,
            "grid_template_rows": null,
            "height": null,
            "justify_content": null,
            "justify_items": null,
            "left": null,
            "margin": null,
            "max_height": null,
            "max_width": null,
            "min_height": null,
            "min_width": null,
            "object_fit": null,
            "object_position": null,
            "order": null,
            "overflow": null,
            "overflow_x": null,
            "overflow_y": null,
            "padding": null,
            "right": null,
            "top": null,
            "visibility": null,
            "width": null
          }
        },
        "fe6072ba1e714363991a5d27b778b5ca": {
          "model_module": "@jupyter-widgets/controls",
          "model_name": "DescriptionStyleModel",
          "model_module_version": "1.5.0",
          "state": {
            "_model_module": "@jupyter-widgets/controls",
            "_model_module_version": "1.5.0",
            "_model_name": "DescriptionStyleModel",
            "_view_count": null,
            "_view_module": "@jupyter-widgets/base",
            "_view_module_version": "1.2.0",
            "_view_name": "StyleView",
            "description_width": ""
          }
        },
        "3000383398fc440894d59d9e46363ee8": {
          "model_module": "@jupyter-widgets/controls",
          "model_name": "HBoxModel",
          "model_module_version": "1.5.0",
          "state": {
            "_dom_classes": [],
            "_model_module": "@jupyter-widgets/controls",
            "_model_module_version": "1.5.0",
            "_model_name": "HBoxModel",
            "_view_count": null,
            "_view_module": "@jupyter-widgets/controls",
            "_view_module_version": "1.5.0",
            "_view_name": "HBoxView",
            "box_style": "",
            "children": [
              "IPY_MODEL_f861051b96264b41a568c86f44e97d7e",
              "IPY_MODEL_57764c0ed82245bbbcfcdff3bf161b4e",
              "IPY_MODEL_39054cc2a98e4cbebdf657edb466fca9"
            ],
            "layout": "IPY_MODEL_750059dd8f9f4fcda9048c73bb07205c"
          }
        },
        "f861051b96264b41a568c86f44e97d7e": {
          "model_module": "@jupyter-widgets/controls",
          "model_name": "HTMLModel",
          "model_module_version": "1.5.0",
          "state": {
            "_dom_classes": [],
            "_model_module": "@jupyter-widgets/controls",
            "_model_module_version": "1.5.0",
            "_model_name": "HTMLModel",
            "_view_count": null,
            "_view_module": "@jupyter-widgets/controls",
            "_view_module_version": "1.5.0",
            "_view_name": "HTMLView",
            "description": "",
            "description_tooltip": null,
            "layout": "IPY_MODEL_c8e6b8f001b84f4f811da8aab9307094",
            "placeholder": "​",
            "style": "IPY_MODEL_0627c253c580425493a6bf452cb402ee",
            "value": ""
          }
        },
        "57764c0ed82245bbbcfcdff3bf161b4e": {
          "model_module": "@jupyter-widgets/controls",
          "model_name": "FloatProgressModel",
          "model_module_version": "1.5.0",
          "state": {
            "_dom_classes": [],
            "_model_module": "@jupyter-widgets/controls",
            "_model_module_version": "1.5.0",
            "_model_name": "FloatProgressModel",
            "_view_count": null,
            "_view_module": "@jupyter-widgets/controls",
            "_view_module_version": "1.5.0",
            "_view_name": "ProgressView",
            "bar_style": "success",
            "description": "",
            "description_tooltip": null,
            "layout": "IPY_MODEL_85b84604f47a492981f4393495d6c12a",
            "max": 5148,
            "min": 0,
            "orientation": "horizontal",
            "style": "IPY_MODEL_957d0ed578a244e7a98717b58b177d82",
            "value": 5148
          }
        },
        "39054cc2a98e4cbebdf657edb466fca9": {
          "model_module": "@jupyter-widgets/controls",
          "model_name": "HTMLModel",
          "model_module_version": "1.5.0",
          "state": {
            "_dom_classes": [],
            "_model_module": "@jupyter-widgets/controls",
            "_model_module_version": "1.5.0",
            "_model_name": "HTMLModel",
            "_view_count": null,
            "_view_module": "@jupyter-widgets/controls",
            "_view_module_version": "1.5.0",
            "_view_name": "HTMLView",
            "description": "",
            "description_tooltip": null,
            "layout": "IPY_MODEL_bd7c05166c3f45d8b6ecb427716426f2",
            "placeholder": "​",
            "style": "IPY_MODEL_6b6476c914dd4f538dd4212b083446d6",
            "value": " 6144/? [00:00&lt;00:00, 182935.82it/s]"
          }
        },
        "750059dd8f9f4fcda9048c73bb07205c": {
          "model_module": "@jupyter-widgets/base",
          "model_name": "LayoutModel",
          "model_module_version": "1.2.0",
          "state": {
            "_model_module": "@jupyter-widgets/base",
            "_model_module_version": "1.2.0",
            "_model_name": "LayoutModel",
            "_view_count": null,
            "_view_module": "@jupyter-widgets/base",
            "_view_module_version": "1.2.0",
            "_view_name": "LayoutView",
            "align_content": null,
            "align_items": null,
            "align_self": null,
            "border": null,
            "bottom": null,
            "display": null,
            "flex": null,
            "flex_flow": null,
            "grid_area": null,
            "grid_auto_columns": null,
            "grid_auto_flow": null,
            "grid_auto_rows": null,
            "grid_column": null,
            "grid_gap": null,
            "grid_row": null,
            "grid_template_areas": null,
            "grid_template_columns": null,
            "grid_template_rows": null,
            "height": null,
            "justify_content": null,
            "justify_items": null,
            "left": null,
            "margin": null,
            "max_height": null,
            "max_width": null,
            "min_height": null,
            "min_width": null,
            "object_fit": null,
            "object_position": null,
            "order": null,
            "overflow": null,
            "overflow_x": null,
            "overflow_y": null,
            "padding": null,
            "right": null,
            "top": null,
            "visibility": null,
            "width": null
          }
        },
        "c8e6b8f001b84f4f811da8aab9307094": {
          "model_module": "@jupyter-widgets/base",
          "model_name": "LayoutModel",
          "model_module_version": "1.2.0",
          "state": {
            "_model_module": "@jupyter-widgets/base",
            "_model_module_version": "1.2.0",
            "_model_name": "LayoutModel",
            "_view_count": null,
            "_view_module": "@jupyter-widgets/base",
            "_view_module_version": "1.2.0",
            "_view_name": "LayoutView",
            "align_content": null,
            "align_items": null,
            "align_self": null,
            "border": null,
            "bottom": null,
            "display": null,
            "flex": null,
            "flex_flow": null,
            "grid_area": null,
            "grid_auto_columns": null,
            "grid_auto_flow": null,
            "grid_auto_rows": null,
            "grid_column": null,
            "grid_gap": null,
            "grid_row": null,
            "grid_template_areas": null,
            "grid_template_columns": null,
            "grid_template_rows": null,
            "height": null,
            "justify_content": null,
            "justify_items": null,
            "left": null,
            "margin": null,
            "max_height": null,
            "max_width": null,
            "min_height": null,
            "min_width": null,
            "object_fit": null,
            "object_position": null,
            "order": null,
            "overflow": null,
            "overflow_x": null,
            "overflow_y": null,
            "padding": null,
            "right": null,
            "top": null,
            "visibility": null,
            "width": null
          }
        },
        "0627c253c580425493a6bf452cb402ee": {
          "model_module": "@jupyter-widgets/controls",
          "model_name": "DescriptionStyleModel",
          "model_module_version": "1.5.0",
          "state": {
            "_model_module": "@jupyter-widgets/controls",
            "_model_module_version": "1.5.0",
            "_model_name": "DescriptionStyleModel",
            "_view_count": null,
            "_view_module": "@jupyter-widgets/base",
            "_view_module_version": "1.2.0",
            "_view_name": "StyleView",
            "description_width": ""
          }
        },
        "85b84604f47a492981f4393495d6c12a": {
          "model_module": "@jupyter-widgets/base",
          "model_name": "LayoutModel",
          "model_module_version": "1.2.0",
          "state": {
            "_model_module": "@jupyter-widgets/base",
            "_model_module_version": "1.2.0",
            "_model_name": "LayoutModel",
            "_view_count": null,
            "_view_module": "@jupyter-widgets/base",
            "_view_module_version": "1.2.0",
            "_view_name": "LayoutView",
            "align_content": null,
            "align_items": null,
            "align_self": null,
            "border": null,
            "bottom": null,
            "display": null,
            "flex": null,
            "flex_flow": null,
            "grid_area": null,
            "grid_auto_columns": null,
            "grid_auto_flow": null,
            "grid_auto_rows": null,
            "grid_column": null,
            "grid_gap": null,
            "grid_row": null,
            "grid_template_areas": null,
            "grid_template_columns": null,
            "grid_template_rows": null,
            "height": null,
            "justify_content": null,
            "justify_items": null,
            "left": null,
            "margin": null,
            "max_height": null,
            "max_width": null,
            "min_height": null,
            "min_width": null,
            "object_fit": null,
            "object_position": null,
            "order": null,
            "overflow": null,
            "overflow_x": null,
            "overflow_y": null,
            "padding": null,
            "right": null,
            "top": null,
            "visibility": null,
            "width": null
          }
        },
        "957d0ed578a244e7a98717b58b177d82": {
          "model_module": "@jupyter-widgets/controls",
          "model_name": "ProgressStyleModel",
          "model_module_version": "1.5.0",
          "state": {
            "_model_module": "@jupyter-widgets/controls",
            "_model_module_version": "1.5.0",
            "_model_name": "ProgressStyleModel",
            "_view_count": null,
            "_view_module": "@jupyter-widgets/base",
            "_view_module_version": "1.2.0",
            "_view_name": "StyleView",
            "bar_color": null,
            "description_width": ""
          }
        },
        "bd7c05166c3f45d8b6ecb427716426f2": {
          "model_module": "@jupyter-widgets/base",
          "model_name": "LayoutModel",
          "model_module_version": "1.2.0",
          "state": {
            "_model_module": "@jupyter-widgets/base",
            "_model_module_version": "1.2.0",
            "_model_name": "LayoutModel",
            "_view_count": null,
            "_view_module": "@jupyter-widgets/base",
            "_view_module_version": "1.2.0",
            "_view_name": "LayoutView",
            "align_content": null,
            "align_items": null,
            "align_self": null,
            "border": null,
            "bottom": null,
            "display": null,
            "flex": null,
            "flex_flow": null,
            "grid_area": null,
            "grid_auto_columns": null,
            "grid_auto_flow": null,
            "grid_auto_rows": null,
            "grid_column": null,
            "grid_gap": null,
            "grid_row": null,
            "grid_template_areas": null,
            "grid_template_columns": null,
            "grid_template_rows": null,
            "height": null,
            "justify_content": null,
            "justify_items": null,
            "left": null,
            "margin": null,
            "max_height": null,
            "max_width": null,
            "min_height": null,
            "min_width": null,
            "object_fit": null,
            "object_position": null,
            "order": null,
            "overflow": null,
            "overflow_x": null,
            "overflow_y": null,
            "padding": null,
            "right": null,
            "top": null,
            "visibility": null,
            "width": null
          }
        },
        "6b6476c914dd4f538dd4212b083446d6": {
          "model_module": "@jupyter-widgets/controls",
          "model_name": "DescriptionStyleModel",
          "model_module_version": "1.5.0",
          "state": {
            "_model_module": "@jupyter-widgets/controls",
            "_model_module_version": "1.5.0",
            "_model_name": "DescriptionStyleModel",
            "_view_count": null,
            "_view_module": "@jupyter-widgets/base",
            "_view_module_version": "1.2.0",
            "_view_name": "StyleView",
            "description_width": ""
          }
        }
      }
    }
  },
  "cells": [
    {
      "cell_type": "markdown",
      "metadata": {
        "id": "view-in-github",
        "colab_type": "text"
      },
      "source": [
        "<a href=\"https://colab.research.google.com/github/taemin-hwang/study-space/blob/master/my_torch.ipynb\" target=\"_parent\"><img src=\"https://colab.research.google.com/assets/colab-badge.svg\" alt=\"Open In Colab\"/></a>"
      ]
    },
    {
      "cell_type": "markdown",
      "source": [
        "# I. Tensor\n",
        "* 텐서는 배열이나 행렬과 매우 유사한 자료구조입니다\n",
        "* PyTorch에서는 텐서를 사용하여 모델의 입력과 출력 그리고 매개변수들을 부호화합니다\n",
        "* 텐서는 GPU나 TPU에서 실행할 수 있다는 점만 제외하면 Numpy의 ndarray와 유사합니다\n",
        "* 텐서는 자동 미분 (automatic differentiaion)에 최적화되어있습니다"
      ],
      "metadata": {
        "id": "eD07_1jG8JKN"
      }
    },
    {
      "cell_type": "code",
      "execution_count": 1,
      "metadata": {
        "id": "kG_F9Wa98EUM"
      },
      "outputs": [],
      "source": [
        "import torch\n",
        "import numpy as np"
      ]
    },
    {
      "cell_type": "markdown",
      "source": [
        "## 텐서 초기화\n",
        "### 데이터로부터 직접 생성하기"
      ],
      "metadata": {
        "id": "jGcq7ZBQDYGC"
      }
    },
    {
      "cell_type": "code",
      "source": [
        "data = [[1,2],[3,4]]\n",
        "x_data = torch.tensor(data)"
      ],
      "metadata": {
        "id": "LgXS_G8t8ken"
      },
      "execution_count": 2,
      "outputs": []
    },
    {
      "cell_type": "markdown",
      "source": [
        "### Numpy 배열로부터 생성하기"
      ],
      "metadata": {
        "id": "SWcBHg9WDhyP"
      }
    },
    {
      "cell_type": "code",
      "source": [
        "np_array = np.array(data)\n",
        "x_np = torch.from_numpy(np_array)"
      ],
      "metadata": {
        "id": "blqWX6zYDfj6"
      },
      "execution_count": 3,
      "outputs": []
    },
    {
      "cell_type": "markdown",
      "source": [
        "## 텐서의 속성 (Attribute)\n",
        "* 텐서의 모양 (shape), 자료형 (datatype) 등"
      ],
      "metadata": {
        "id": "aJ3M_woLDyKl"
      }
    },
    {
      "cell_type": "code",
      "source": [
        "tensor = torch.rand((3, 4))\n",
        "print(\"Shape : {}\".format(tensor.shape))\n",
        "print(\"DType : {}\".format(tensor.dtype))\n",
        "print(\"Device tensor is stored on  : {}\".format(tensor.device))"
      ],
      "metadata": {
        "colab": {
          "base_uri": "https://localhost:8080/"
        },
        "id": "ybayQP8XDphM",
        "outputId": "03ce1645-bd1a-4979-f932-985d64faa11e"
      },
      "execution_count": 6,
      "outputs": [
        {
          "output_type": "stream",
          "name": "stdout",
          "text": [
            "Shape : torch.Size([3, 4])\n",
            "DType : torch.float32\n",
            "Device tensor is stored on  : cpu\n"
          ]
        }
      ]
    },
    {
      "cell_type": "markdown",
      "source": [
        "## 텐서 연산 (Operation)\n",
        "* 전치 (transposing)\n",
        "* 인덱싱 (indexing)\n",
        "* 슬라이싱 (slicing)\n",
        "* 수학계산, 선형대수, 임의 샘플링 (random sampling)등\n",
        "* 각 연산들은 일반적으로 CPU보다 빠른 GPU에서 실행할 수 있습니다\n",
        "* 기본적으로 텐서는 CPU에 생성됩니다 .to 메소드를 사용하면 GPU로 텐서를 명시적으로 이동할 수 있습니다"
      ],
      "metadata": {
        "id": "HwG_8g-fELlb"
      }
    },
    {
      "cell_type": "code",
      "source": [
        "# GPU가 존재하면 텐서를 이동합니다\n",
        "if torch.cuda.is_available():\n",
        "  print('torch.cuda.is_available() : move tensor to GPU')\n",
        "  tensor = tensor.to(\"cuda\")"
      ],
      "metadata": {
        "colab": {
          "base_uri": "https://localhost:8080/"
        },
        "id": "8Ck5JpziEDkx",
        "outputId": "98ff5306-c790-4f13-d9ba-89a630727b9f"
      },
      "execution_count": 9,
      "outputs": [
        {
          "output_type": "stream",
          "name": "stdout",
          "text": [
            "torch.cuda.is_available() : move tensor to GPU\n"
          ]
        }
      ]
    },
    {
      "cell_type": "markdown",
      "source": [
        "### 산술 연산 (Arithmetic Operations)"
      ],
      "metadata": {
        "id": "rRay9vvzE81n"
      }
    },
    {
      "cell_type": "code",
      "source": [
        "y1 = tensor @ tensor.T\n",
        "y2 = tensor.matmul(tensor.T)\n",
        "y3 = torch.rand_like(tensor)\n",
        "torch.matmul(tensor, tensor.T, out=y3)\n",
        "\n",
        "z1 = tensor * tensor\n",
        "z2 = tensor.mul(tensor)\n",
        "z3 = torch.rand_like(tensor)\n",
        "torch.mul(tensor, tensor, out=z3)"
      ],
      "metadata": {
        "colab": {
          "base_uri": "https://localhost:8080/"
        },
        "id": "fL0Q8k64ElrY",
        "outputId": "cdf91011-83b3-4fcf-9798-6a774e55cba7"
      },
      "execution_count": 14,
      "outputs": [
        {
          "output_type": "stream",
          "name": "stderr",
          "text": [
            "/usr/local/lib/python3.7/dist-packages/ipykernel_launcher.py:4: UserWarning: An output with one or more elements was resized since it had shape [3, 4], which does not match the required output shape [3, 3].This behavior is deprecated, and in a future PyTorch release outputs will not be resized unless they have zero elements. You can explicitly reuse an out tensor t by resizing it, inplace, to zero elements with t.resize_(0). (Triggered internally at  ../aten/src/ATen/native/Resize.cpp:24.)\n",
            "  after removing the cwd from sys.path.\n"
          ]
        },
        {
          "output_type": "execute_result",
          "data": {
            "text/plain": [
              "tensor([[0.3217, 0.0027, 0.2161, 0.4270],\n",
              "        [0.5450, 0.2550, 0.0527, 0.0325],\n",
              "        [0.8371, 0.1303, 0.3346, 0.2825]], device='cuda:0')"
            ]
          },
          "metadata": {},
          "execution_count": 14
        }
      ]
    },
    {
      "cell_type": "markdown",
      "source": [
        "## Numpy 변환 (Bridge)\n",
        "* CPU 상의 텐서와 Numpy 배열은 \"메모리 공간을 공유\"하기 때문에 하나를 변경하면 다른 하나도 변경됩니다"
      ],
      "metadata": {
        "id": "P3Z2ikTrFbzE"
      }
    },
    {
      "cell_type": "code",
      "source": [
        "t = torch.ones(5)\n",
        "print(f\"t: {t}\")\n",
        "n = t.numpy()\n",
        "print(f\"n: {n}\")"
      ],
      "metadata": {
        "colab": {
          "base_uri": "https://localhost:8080/"
        },
        "id": "ggg8QP4iFFDM",
        "outputId": "38f594a6-93d9-4a2a-efee-096ca7c3a3f2"
      },
      "execution_count": 16,
      "outputs": [
        {
          "output_type": "stream",
          "name": "stdout",
          "text": [
            "t: tensor([1., 1., 1., 1., 1.])\n",
            "t: [1. 1. 1. 1. 1.]\n"
          ]
        }
      ]
    },
    {
      "cell_type": "code",
      "source": [
        "t.add_(1)\n",
        "print(f\"t: {t}\")\n",
        "print(f\"n: {n}\")"
      ],
      "metadata": {
        "colab": {
          "base_uri": "https://localhost:8080/"
        },
        "id": "fjbZ_ny0FlyX",
        "outputId": "6393be3e-e98d-48ac-fdfe-bff5fb13b59a"
      },
      "execution_count": 17,
      "outputs": [
        {
          "output_type": "stream",
          "name": "stdout",
          "text": [
            "t: tensor([2., 2., 2., 2., 2.])\n",
            "t: [2. 2. 2. 2. 2.]\n"
          ]
        }
      ]
    },
    {
      "cell_type": "markdown",
      "source": [
        "### Numpy 배열을 텐서로 변환하기"
      ],
      "metadata": {
        "id": "D10Nz7G0FwZ7"
      }
    },
    {
      "cell_type": "code",
      "source": [
        "n = np.ones(5)\n",
        "t = torch.from_numpy(n)\n",
        "\n",
        "print(f\"t: {t}\")\n",
        "print(f\"n: {n}\")\n",
        "\n",
        "n *= 2\n",
        "\n",
        "print(f\"t: {t}\")\n",
        "print(f\"n: {n}\")"
      ],
      "metadata": {
        "colab": {
          "base_uri": "https://localhost:8080/"
        },
        "id": "2woDDiGRFutA",
        "outputId": "ea689288-6920-487b-ac86-010a5700c23e"
      },
      "execution_count": 21,
      "outputs": [
        {
          "output_type": "stream",
          "name": "stdout",
          "text": [
            "t: tensor([1., 1., 1., 1., 1.], dtype=torch.float64)\n",
            "n: [1. 1. 1. 1. 1.]\n",
            "t: tensor([2., 2., 2., 2., 2.], dtype=torch.float64)\n",
            "n: [2. 2. 2. 2. 2.]\n"
          ]
        }
      ]
    },
    {
      "cell_type": "markdown",
      "source": [
        "\n",
        "\n",
        "---\n",
        "\n"
      ],
      "metadata": {
        "id": "5q6QPsanGEfE"
      }
    },
    {
      "cell_type": "markdown",
      "source": [
        "# II. Dataset과 DataLoader\n",
        "* 데이터 샘플을 처리하는 코드는 지저분하고 유지보수가 어려울 수 있습니다\n",
        "* 더 나은 가독성과 모듈성을 위해 데이터셋 코드를 모델 학습 코드로부터 분리하는 것이 이상적입니다\n",
        "* PyTorch는 torch.utils.data.DataLoader와 torch.utils.data.Dataset의 두 가지 데이터 기본 요소를 제공하여 미리 준비된 데이터 셋 뿐만 아니라 가지고 있는 데이터를 사용할 수 있도록 합니다\n",
        "* Dataset은 샘플과 정답을 저장합니다\n",
        "* DataLoader는 Dataset을 샘플에 쉽게 접근할 수 있도록 iterable로 감쌉니다"
      ],
      "metadata": {
        "id": "YSERlncvGHz-"
      }
    },
    {
      "cell_type": "markdown",
      "source": [
        "## 데이터셋 불러오기\n",
        "* TorchVision에서 Fashion-MNIST 데이터셋을 불러오는 예제를 살펴보겠습니다\n",
        "  * root는 학습/테스트 데이터가 저장되는 경로\n",
        "  * train은 학습용 또는 테스트용 데이터셋 여부를 지정\n",
        "  * download=True는 root에 데이터가 없는 경우 인터넷에서 다운로드\n",
        "  * transform과 target_transform은 특징과 정답 변형을 지정"
      ],
      "metadata": {
        "id": "FKM39bPiG98_"
      }
    },
    {
      "cell_type": "code",
      "source": [
        "import torch\n",
        "from torch.utils.data import Dataset\n",
        "from torchvision import datasets\n",
        "from torchvision.transforms import ToTensor\n",
        "import matplotlib.pyplot as plt\n",
        "\n",
        "training_data = datasets.FashionMNIST (\n",
        "    root=\"data\",\n",
        "    train=True,\n",
        "    download=True,\n",
        "    transform=ToTensor()\n",
        ")\n",
        "\n",
        "test_data = datasets.FashionMNIST(\n",
        "    root=\"data\",\n",
        "    train=False,\n",
        "    download=True,\n",
        "    transform=ToTensor()\n",
        ")"
      ],
      "metadata": {
        "colab": {
          "base_uri": "https://localhost:8080/",
          "height": 460,
          "referenced_widgets": [
            "1af8aae2fdbb4b4eb8d0c83425cd2af3",
            "a69dfcd287e345718cac52f3b1a8c415",
            "02bff3846c07421cbfeb10180b1c4938",
            "4c872835778249eba6ac4fe14b581136",
            "29c859b7438a466f8eb42ff5e1a8db45",
            "32ad593ae38f489dbfeb203684f96247",
            "18d9c23c1c644d97949c4a192014bc88",
            "e550fac2cd9c450dbab6a20ab2515bdd",
            "dca4aa314da445ba937ccccc7af12de3",
            "e5df0d75ed0f4d49ab299418b9f17770",
            "df6e8c13b734466bbc8040502bea184b",
            "e29c7620969d442cafcdc8c002377d90",
            "968ad1e0c7eb4037ae712a94123e589f",
            "436a1ecb61224bbe8ecda0505b2aef14",
            "5899abb15c0a47a38c76f242c86ecb56",
            "ea17de6c2132427c91c2509c7c13886f",
            "3b2cf30e7ff0465a80c7be17b520c466",
            "c832e144b7d24bc682027871f14c2eca",
            "19cf9a2347e64b34bad4ca9064389ac9",
            "b94d7d28788a446eb2950597530566b9",
            "bf065100254242a28975f9eb33be47a1",
            "508612605e264e2b9505379f5c309e1e",
            "9081730580cc4cd2afb42d6d7a79e957",
            "dd543148892e42ebb85003e5426f92ec",
            "48c84609788a4e06b22f58db13bcd91b",
            "70c87144cd6f415ba843780ef3b95596",
            "83c3959ee9714a2bb1b80bcc44c6e081",
            "00ae03b0a12c48b7a905b3de1e1c32f1",
            "2a677eeb264a48c4bb4c706cfbdf15df",
            "ea086ac3bb9d4ee1a0c0d954b7337cc4",
            "fbd29ab7251948d8bf9643018436d3c9",
            "f7b15c02cd9d49b1b9cdc47ce829564b",
            "fe6072ba1e714363991a5d27b778b5ca",
            "3000383398fc440894d59d9e46363ee8",
            "f861051b96264b41a568c86f44e97d7e",
            "57764c0ed82245bbbcfcdff3bf161b4e",
            "39054cc2a98e4cbebdf657edb466fca9",
            "750059dd8f9f4fcda9048c73bb07205c",
            "c8e6b8f001b84f4f811da8aab9307094",
            "0627c253c580425493a6bf452cb402ee",
            "85b84604f47a492981f4393495d6c12a",
            "957d0ed578a244e7a98717b58b177d82",
            "bd7c05166c3f45d8b6ecb427716426f2",
            "6b6476c914dd4f538dd4212b083446d6"
          ]
        },
        "id": "4KZCTia3F0jp",
        "outputId": "c9bd7e3f-ce81-4e91-8721-72f3a34f2213"
      },
      "execution_count": 25,
      "outputs": [
        {
          "output_type": "stream",
          "name": "stdout",
          "text": [
            "Downloading http://fashion-mnist.s3-website.eu-central-1.amazonaws.com/train-images-idx3-ubyte.gz\n",
            "Downloading http://fashion-mnist.s3-website.eu-central-1.amazonaws.com/train-images-idx3-ubyte.gz to data/FashionMNIST/raw/train-images-idx3-ubyte.gz\n"
          ]
        },
        {
          "output_type": "display_data",
          "data": {
            "text/plain": [
              "  0%|          | 0/26421880 [00:00<?, ?it/s]"
            ],
            "application/vnd.jupyter.widget-view+json": {
              "version_major": 2,
              "version_minor": 0,
              "model_id": "1af8aae2fdbb4b4eb8d0c83425cd2af3"
            }
          },
          "metadata": {}
        },
        {
          "output_type": "stream",
          "name": "stdout",
          "text": [
            "Extracting data/FashionMNIST/raw/train-images-idx3-ubyte.gz to data/FashionMNIST/raw\n",
            "\n",
            "Downloading http://fashion-mnist.s3-website.eu-central-1.amazonaws.com/train-labels-idx1-ubyte.gz\n",
            "Downloading http://fashion-mnist.s3-website.eu-central-1.amazonaws.com/train-labels-idx1-ubyte.gz to data/FashionMNIST/raw/train-labels-idx1-ubyte.gz\n"
          ]
        },
        {
          "output_type": "display_data",
          "data": {
            "text/plain": [
              "  0%|          | 0/29515 [00:00<?, ?it/s]"
            ],
            "application/vnd.jupyter.widget-view+json": {
              "version_major": 2,
              "version_minor": 0,
              "model_id": "e29c7620969d442cafcdc8c002377d90"
            }
          },
          "metadata": {}
        },
        {
          "output_type": "stream",
          "name": "stdout",
          "text": [
            "Extracting data/FashionMNIST/raw/train-labels-idx1-ubyte.gz to data/FashionMNIST/raw\n",
            "\n",
            "Downloading http://fashion-mnist.s3-website.eu-central-1.amazonaws.com/t10k-images-idx3-ubyte.gz\n",
            "Downloading http://fashion-mnist.s3-website.eu-central-1.amazonaws.com/t10k-images-idx3-ubyte.gz to data/FashionMNIST/raw/t10k-images-idx3-ubyte.gz\n"
          ]
        },
        {
          "output_type": "display_data",
          "data": {
            "text/plain": [
              "  0%|          | 0/4422102 [00:00<?, ?it/s]"
            ],
            "application/vnd.jupyter.widget-view+json": {
              "version_major": 2,
              "version_minor": 0,
              "model_id": "9081730580cc4cd2afb42d6d7a79e957"
            }
          },
          "metadata": {}
        },
        {
          "output_type": "stream",
          "name": "stdout",
          "text": [
            "Extracting data/FashionMNIST/raw/t10k-images-idx3-ubyte.gz to data/FashionMNIST/raw\n",
            "\n",
            "Downloading http://fashion-mnist.s3-website.eu-central-1.amazonaws.com/t10k-labels-idx1-ubyte.gz\n",
            "Downloading http://fashion-mnist.s3-website.eu-central-1.amazonaws.com/t10k-labels-idx1-ubyte.gz to data/FashionMNIST/raw/t10k-labels-idx1-ubyte.gz\n"
          ]
        },
        {
          "output_type": "display_data",
          "data": {
            "text/plain": [
              "  0%|          | 0/5148 [00:00<?, ?it/s]"
            ],
            "application/vnd.jupyter.widget-view+json": {
              "version_major": 2,
              "version_minor": 0,
              "model_id": "3000383398fc440894d59d9e46363ee8"
            }
          },
          "metadata": {}
        },
        {
          "output_type": "stream",
          "name": "stdout",
          "text": [
            "Extracting data/FashionMNIST/raw/t10k-labels-idx1-ubyte.gz to data/FashionMNIST/raw\n",
            "\n"
          ]
        }
      ]
    },
    {
      "cell_type": "markdown",
      "source": [
        "### 데이터셋을 순회하고 시각화하기\n",
        "* Dataset에 리스트처럼 직접 접근 (index)할 수 있습니다\n",
        "  * training_data[index]\n",
        "* matplotlib을 사용하여 학습데이터의 일부를 시각화해보겠습니다"
      ],
      "metadata": {
        "id": "2zfQpecsICJj"
      }
    },
    {
      "cell_type": "code",
      "source": [
        "labels_map = {\n",
        "    0: \"T-Shirt\",\n",
        "    1: \"Trouser\",\n",
        "    2: \"Pullover\",\n",
        "    3: \"Dress\",\n",
        "    4: \"Coat\",\n",
        "    5: \"Sandal\",\n",
        "    6: \"Shirt\",\n",
        "    7: \"Sneaker\",\n",
        "    8: \"Bag\",\n",
        "    9: \"Ankle Boot\",\n",
        "}\n",
        "\n",
        "figure = plt.figure(figsize=(8, 8))\n",
        "cols, rows = 3, 3\n",
        "for i in range(1, cols*rows+1):\n",
        "  sample_idx = torch.randint(len(training_data), size=(1,)).item()\n",
        "  img, label = training_data[sample_idx]\n",
        "  figure.add_subplot(rows, cols, i)\n",
        "  plt.title(labels_map[label])\n",
        "  plt.axis(\"off\")\n",
        "  plt.imshow(img.squeeze(), cmap=\"gray\")\n",
        "plt.show()"
      ],
      "metadata": {
        "colab": {
          "base_uri": "https://localhost:8080/",
          "height": 482
        },
        "id": "4H5vXztFHa3S",
        "outputId": "b46fd40e-4a82-4882-85d6-d7f7ec07c838"
      },
      "execution_count": 29,
      "outputs": [
        {
          "output_type": "display_data",
          "data": {
            "text/plain": [
              "<Figure size 576x576 with 9 Axes>"
            ],
            "image/png": "[encoded data removed]"
          },
          "metadata": {
            "needs_background": "light"
          }
        }
      ]
    },
    {
      "cell_type": "markdown",
      "source": [
        "### 파일에서 사용자 정의 데이터셋 만들기\n",
        "* 사용자 정의 Dataset 클래스는 반드시 3개 함수를 구현해야 합니다\n",
        "  * `__init__`\n",
        "  * `__len__`\n",
        "  * `__getitem__`"
      ],
      "metadata": {
        "id": "xi4rOJr_J7fi"
      }
    },
    {
      "cell_type": "code",
      "source": [
        "import os\n",
        "import pandas as pd\n",
        "from torchvision.io import read_image\n",
        "\n",
        "class CustomImageDataset(Dataset):\n",
        "  def __init__(self, annotations_file, img_dir, transform=None, target_transform=None):\n",
        "    self.img_labels = pd.read_csv(annotations_file, names=['file_name', 'label'])\n",
        "    self.img_dir = img_dir\n",
        "    self.transform = transform\n",
        "    self.target_transform = target_transform\n",
        "\n",
        "  def __len__(self):\n",
        "    return len(self.img_labels)\n",
        "  \n",
        "  def __getitem__(self, idx):\n",
        "    img_path = os.path.join(self.img_dir, self.img_labels.iloc[idx, 0])\n",
        "    print(img_path)\n",
        "    image = read_image(img_path) # torchvision.io read_image\n",
        "    label = self.img_labels.iloc[idx, 1]\n",
        "    if self.transform:\n",
        "      image = self.transform(image)\n",
        "    if self.target_trasnform:\n",
        "      label = self.target_transform(label)\n",
        "    return image, label"
      ],
      "metadata": {
        "id": "9hLpBWHiIc4J"
      },
      "execution_count": 31,
      "outputs": []
    },
    {
      "cell_type": "markdown",
      "source": [
        "* `__init__` 함수는 Dataset 객체가 생성될 때 한 번만 실행됩니다\n",
        "* `__len__` 함수는 데이터셋의 샘플개수를 반환합니다\n",
        "* `__getitem__` 함수는 주어진 인덱스 `idx`에 해당하는 샘플을 데이터셋에서 불러오고 반환합니다\n",
        "  * 인덱스를 기반으로, 이미지의 위치를 식별하고\n",
        "  * `read_image`를 사용하여 이미지를 텐서로 변환하고\n",
        "  * `self.img_labels`의 csv 데이터로부터 해당하는 정답 (label)을 가져오고, 변형한뒤 텐서이미지와 라벨을 dict 형으로 반환합니다\n",
        "\n"
      ],
      "metadata": {
        "id": "v9dhuZllLFNv"
      }
    },
    {
      "cell_type": "markdown",
      "source": [
        "### DataLoader로 학습용 데이터 준비하기\n",
        "* Dataset은 데이터셋의 특징(feature)을 가져오고 하나의 샘플에 정답(label)을 지정하는 일을 한 번에 합니다\n",
        "* 모델을 학습할 때 일반적으로 샘플들을 \"미니배치(minibatch)\"로 전달하고,\n",
        "* 매 epoch마다 데이터를 다시 섞어서 과적합(overfit)을 막고\n",
        "* python의 multiprocessing을 사용하여 데이터 검색 속도를 높이려고 합니다\n",
        "\n",
        "* `DataLoader`는 간단한 API로 이러한 복잡한 과정들을 추상화한 순회 가능한 객체 (iterable)입니다"
      ],
      "metadata": {
        "id": "5zLc2DveL0TQ"
      }
    },
    {
      "cell_type": "code",
      "source": [
        "from torch.utils.data import DataLoader\n",
        "\n",
        "train_dataloader = DataLoader(training_data, batch_size=64, shuffle=True)\n",
        "test_dataloader = DataLoader(test_data, batch_size=64, shuffle=True)"
      ],
      "metadata": {
        "id": "xO9Mo1pcKeaH"
      },
      "execution_count": 32,
      "outputs": []
    },
    {
      "cell_type": "markdown",
      "source": [
        "### DataLoader를 통해 순회하기 (iterate)\n",
        "* DataLoader에 데이터셋을 불러온 뒤에는 필요에 따라 데이터 셋을 순회할 수 있습니다\n",
        "* 아래의 각 순회 (iteration)는 train_features와 train_labels의 묶음 (batch)을 반환합니다\n",
        "  * batch_size=64의 특징(feature)와 정답(labels)를 포함\n",
        "* shuffle=True로 지정했으므로, 모든 배치를 순회한 뒤 데이터가 섞입니다"
      ],
      "metadata": {
        "id": "yzOtDeuAMejt"
      }
    },
    {
      "cell_type": "code",
      "source": [
        "train_features, train_labels = next(iter(train_dataloader))"
      ],
      "metadata": {
        "id": "gb__cKtKNV3s"
      },
      "execution_count": 40,
      "outputs": []
    },
    {
      "cell_type": "code",
      "source": [
        "print(f\"Feature batch shape: {train_features.size()}\")\n",
        "print(f\"Labels batch shape: {train_labels.size()}\")\n",
        "img = train_features[1].squeeze() # 0 - 63 indexing\n",
        "label = train_labels[1] # 0 - 63 indexing\n",
        "\n",
        "plt.imshow(img, cmap=\"gray\")\n",
        "plt.show()\n",
        "print(f\"Label: {label}\")"
      ],
      "metadata": {
        "colab": {
          "base_uri": "https://localhost:8080/",
          "height": 320
        },
        "id": "UV3vGCSYMdtP",
        "outputId": "e6e0638d-2d37-4547-fc0c-442ef8df5b06"
      },
      "execution_count": 45,
      "outputs": [
        {
          "output_type": "stream",
          "name": "stdout",
          "text": [
            "Feature batch shape: torch.Size([64, 1, 28, 28])\n",
            "Labels batch shape: torch.Size([64])\n"
          ]
        },
        {
          "output_type": "display_data",
          "data": {
            "text/plain": [
              "<Figure size 432x288 with 1 Axes>"
            ],
            "image/png": "[encoded data removed]"
          },
          "metadata": {
            "needs_background": "light"
          }
        },
        {
          "output_type": "stream",
          "name": "stdout",
          "text": [
            "Label: 3\n"
          ]
        }
      ]
    },
    {
      "cell_type": "markdown",
      "source": [
        "\n",
        "\n",
        "---\n",
        "\n",
        "# III. 변형 (Transform)\n",
        "* 데이터가 항상 머신러닝 알고리즘 학습에 필요한 최종 처리가 된 형태로 제공되지는 않습니다\n",
        "* 변형(transform)을 해서 데이터를 조작하고 학습에 적합하게 만듭니다\n",
        "* 모든 TorchVision 데이터셋들은 변형 로직을 갖는, 호출 가능한 객체 (callable)를 받는 매개변수 두개 (tranform, target_transform)를 갖습니다\n",
        "* FashionMNIST 특징(feature)는 PIL Image 형식이며, 정답(label)은 정수입니다\n",
        "* 학습을 하려면 정규화(normalize)된 텐서의 특징 (feature)과 원-핫(one-hot)으로 부호화(encoding)된 텐서 형태의 정답(label)이 필요합니다\n",
        "* 이러한 변형을 하기 위해 `ToTensor`와 `Lambda`를 사용합니다"
      ],
      "metadata": {
        "id": "Spqr-oDqNdQF"
      }
    },
    {
      "cell_type": "code",
      "source": [
        "import torch\n",
        "from torchvision import datasets\n",
        "from torchvision.transforms import ToTensor, Lambda\n",
        "\n",
        "ds = datasets.FashionMNIST(\n",
        "    root=\"data\",\n",
        "    train=True,\n",
        "    download=True,\n",
        "    transform=ToTensor(),\n",
        "    target_transform=Lambda(lambda y: torch.zeros(10, dtype=torch.float).scatter_(0, torch.tensor(y), value=1))\n",
        ")"
      ],
      "metadata": {
        "id": "jKxu3WA7NCrr"
      },
      "execution_count": 48,
      "outputs": []
    },
    {
      "cell_type": "markdown",
      "source": [
        "## ToTensor()\n",
        "* `ToTensor`는 PIL Image나 Numpy ndarray를 FloatTensor로 변환하고 이미지의 픽셀의 크기 (intensity) 값을 [0., 1.] 번위로 scaling 합니다\n",
        "\n",
        "## Lambda 변형 (transform)\n",
        "* 사용자 정의 람다 함수를 적용합니다\n",
        "* 여기에서는 정수를 원-핫으로 부호화된 텐서로 바꾸는 함수를 정의합니다\n",
        "  * 크기 10짜리 zero tensor를 만들고\n",
        "  * scatter_를 호출하여 주어진 정답 `y`에 해당하는 인덱스에 value=1을 할당합니다"
      ],
      "metadata": {
        "id": "3edt6bU7OcXQ"
      }
    },
    {
      "cell_type": "markdown",
      "source": [
        "---\n",
        "# IV. 신경망 모델 구성하기\n",
        "* 신경망은 데이터에 대한 연산을 구행하는 계층(layer)/모듈(module)로 구성되어 있습니다\n",
        "* `tensor.nn` 네임스페이스는 신경망을 구성하는데 필요한 모든 구성 요소를 제공합니다}"
      ],
      "metadata": {
        "id": "AErz7v7SR2Y9"
      }
    },
    {
      "cell_type": "code",
      "source": [
        "import os\n",
        "import torch\n",
        "from torch import nn\n",
        "from torch.utils.data import DataLoader\n",
        "from torchvision import datasets, transforms"
      ],
      "metadata": {
        "id": "VbFI3H4COXF7"
      },
      "execution_count": 49,
      "outputs": []
    },
    {
      "cell_type": "markdown",
      "source": [
        "## 학습을 위한 장치 얻기\n",
        "* 가능한 경우 GPU와 같은 하드웨어 가속기에서 모델을 학습하려 합니다\n",
        "* torch.cuda를 사용할 수 있는지 확인하고 그렇지 않으면 CPU를 계속 사용합니다"
      ],
      "metadata": {
        "id": "8ol546H_SLgQ"
      }
    },
    {
      "cell_type": "code",
      "source": [
        "device = \"cuda\" if torch.cuda.is_available() else \"cpu\"\n",
        "print(f\"Using {device} device\")"
      ],
      "metadata": {
        "colab": {
          "base_uri": "https://localhost:8080/"
        },
        "id": "xU8auk0XSKet",
        "outputId": "af35ad44-cf28-4057-8e01-208dce8c1c8d"
      },
      "execution_count": 50,
      "outputs": [
        {
          "output_type": "stream",
          "name": "stdout",
          "text": [
            "Using cuda device\n"
          ]
        }
      ]
    },
    {
      "cell_type": "markdown",
      "source": [
        "## 클래스 정의하기\n",
        "* 신경망 모델을 nn.Module의 하위 클래스로 정의하고,\n",
        "* `__init__`에서 신경망 계층들을 초기화 합니다\n",
        "* nn.Module을 상속받은 모든 클래스는 forward 메소드에 입력 데이터에 대한 연산들을 구현합니다"
      ],
      "metadata": {
        "id": "z8KZdiLDSa_l"
      }
    },
    {
      "cell_type": "code",
      "source": [
        "class NeuralNetwork(nn.Module):\n",
        "  def __init__(self):\n",
        "    super(NeuralNetwork, self).__init__()\n",
        "    self.flatten = nn.Flatten()\n",
        "    self.linear_relu_stack = nn.Sequential(\n",
        "        nn.Linear(28*28, 512),\n",
        "        nn.ReLU(),\n",
        "        nn.Linear(512, 512),\n",
        "        nn.ReLU(),\n",
        "        nn.Linear(512, 10),\n",
        "    )\n",
        "\n",
        "  def forward(self, x):\n",
        "    x = self.flatten(x)\n",
        "    logits = self.linear_relu_stack(x)\n",
        "    return logits"
      ],
      "metadata": {
        "id": "BWhRMzSESZgX"
      },
      "execution_count": 57,
      "outputs": []
    },
    {
      "cell_type": "markdown",
      "source": [
        "`NeuralNetwork`의 인스턴스를 생성하고 이를 `device`로 이동한뒤, 구조를 출력합니다"
      ],
      "metadata": {
        "id": "WnVrff2cTFfn"
      }
    },
    {
      "cell_type": "code",
      "source": [
        "model = NeuralNetwork().to(device)\n",
        "print(model)"
      ],
      "metadata": {
        "colab": {
          "base_uri": "https://localhost:8080/"
        },
        "id": "PVexpcQrTBix",
        "outputId": "dd4178b8-c40e-446a-dd78-00acc2317cc3"
      },
      "execution_count": 58,
      "outputs": [
        {
          "output_type": "stream",
          "name": "stdout",
          "text": [
            "NeuralNetwork(\n",
            "  (flatten): Flatten(start_dim=1, end_dim=-1)\n",
            "  (linear_relu_stack): Sequential(\n",
            "    (0): Linear(in_features=784, out_features=512, bias=True)\n",
            "    (1): ReLU()\n",
            "    (2): Linear(in_features=512, out_features=512, bias=True)\n",
            "    (3): ReLU()\n",
            "    (4): Linear(in_features=512, out_features=10, bias=True)\n",
            "  )\n",
            ")\n"
          ]
        }
      ]
    },
    {
      "cell_type": "markdown",
      "source": [
        "* 모델을 사용하기 위해 입력 데이터를 전달합니다\n",
        "* 이는 백그라운드 연산들과 함께 모델의 `forward`를 실행합니다\n",
        "  * 직접 `model.forward()`를 호출하지 마세요\n",
        "* 모델에 입력을 호출하면 각 분류(class)에 대한 raw 예측값이 있는 10-차원 텐서가 반환됩니다\n",
        "* raw 예측값을 nn.Softmax 모듈의 인스턴스에 통과시켜 예측 확률을 얻습니다"
      ],
      "metadata": {
        "id": "HU5-35NfTRAa"
      }
    },
    {
      "cell_type": "code",
      "source": [
        "X = torch.rand(1, 28, 28, device=device)\n",
        "logits = model(X)\n",
        "pred_probab = nn.Softmax(dim=1)(logits)\n",
        "y_pred = pred_probab.argmax(1)\n",
        "print(f\"Predicted class {y_pred}\")"
      ],
      "metadata": {
        "colab": {
          "base_uri": "https://localhost:8080/"
        },
        "id": "2MotXff7TNHe",
        "outputId": "85a0adf4-277e-46db-91b2-8d2d2e39b6c3"
      },
      "execution_count": 59,
      "outputs": [
        {
          "output_type": "stream",
          "name": "stdout",
          "text": [
            "Predicted class tensor([2], device='cuda:0')\n"
          ]
        }
      ]
    },
    {
      "cell_type": "markdown",
      "source": [
        "## 모델 계층 (Layer)\n",
        "* FashionMNIST 모델의 계층들을 살펴봅니다\n",
        "* 이를 설명하기 위해 28x28 크기의 이미지 2개로 구성된 미니 배치를 가져오겠습니다"
      ],
      "metadata": {
        "id": "fEtjZGI4acYD"
      }
    },
    {
      "cell_type": "code",
      "source": [
        "input_image = torch.rand(3, 28, 28)\n",
        "print(input_image.size())"
      ],
      "metadata": {
        "colab": {
          "base_uri": "https://localhost:8080/"
        },
        "id": "GkIV_JzcTz8t",
        "outputId": "67a2a46d-ba4f-4c61-c3f8-b5d10fe090cf"
      },
      "execution_count": 60,
      "outputs": [
        {
          "output_type": "stream",
          "name": "stdout",
          "text": [
            "torch.Size([3, 28, 28])\n"
          ]
        }
      ]
    },
    {
      "cell_type": "markdown",
      "source": [
        "### `nn.Flatten`\n",
        "* 각 28x28의 2D 이미지를 784 픽셀 값을 갖는 연속된 배열로 변환합니다"
      ],
      "metadata": {
        "id": "H3p7kAA8auv5"
      }
    },
    {
      "cell_type": "code",
      "source": [
        "flatten = nn.Flatten()\n",
        "flat_image = flatten(input_image)\n",
        "print(flat_image.size())"
      ],
      "metadata": {
        "colab": {
          "base_uri": "https://localhost:8080/"
        },
        "id": "M_qRCQ8Laqq4",
        "outputId": "f478bb75-494b-4513-e35f-bf381a77fb98"
      },
      "execution_count": 61,
      "outputs": [
        {
          "output_type": "stream",
          "name": "stdout",
          "text": [
            "torch.Size([3, 784])\n"
          ]
        }
      ]
    },
    {
      "cell_type": "markdown",
      "source": [
        "### `nn.Linear`\n",
        "* 저장된 가중치(weight)와 편향(bias)을 사용하여 선형 변환을 적용하는 모듈입니다"
      ],
      "metadata": {
        "id": "XxU3_gSqa9VO"
      }
    },
    {
      "cell_type": "code",
      "source": [
        "layer1 = nn.Linear(in_features=28*28, out_features=20)\n",
        "hidden1 = layer1(flat_image)\n",
        "print(hidden1.size())"
      ],
      "metadata": {
        "colab": {
          "base_uri": "https://localhost:8080/"
        },
        "id": "8eOSHQrba5VJ",
        "outputId": "99a25dc5-2e76-4e7f-efd5-a04e2f5ad865"
      },
      "execution_count": 62,
      "outputs": [
        {
          "output_type": "stream",
          "name": "stdout",
          "text": [
            "torch.Size([3, 20])\n"
          ]
        }
      ]
    },
    {
      "cell_type": "markdown",
      "source": [
        "### `nn.ReLU`\n",
        "* 비선형 활성화(activation) 모델의 입력과 출력 사이에 복잡한 관계(mapping)를 만듭니다\n"
      ],
      "metadata": {
        "id": "trVX7xixbYmF"
      }
    },
    {
      "cell_type": "code",
      "source": [
        "print(f\"Before ReLU : {hidden1}\\n\\n\")\n",
        "hidden1 = nn.ReLU()(hidden1)\n",
        "print(f\"After ReLU : {hidden1}\")"
      ],
      "metadata": {
        "colab": {
          "base_uri": "https://localhost:8080/"
        },
        "id": "6Ce2Hq7IbLE_",
        "outputId": "619cd706-410e-4493-cf4e-33c7de61e3bd"
      },
      "execution_count": 63,
      "outputs": [
        {
          "output_type": "stream",
          "name": "stdout",
          "text": [
            "Before ReLU : tensor([[-0.3210,  0.5707, -0.1064,  0.3860,  0.4311, -0.5687, -0.1116, -0.2614,\n",
            "          0.7400, -0.2164, -0.3215, -0.0868,  0.2036, -0.2449, -0.2767, -0.4486,\n",
            "          0.5082, -0.4637, -0.2269,  0.2688],\n",
            "        [-0.4147,  0.2843, -0.0509,  0.5132,  0.2956, -0.7899, -0.2454, -0.0440,\n",
            "          0.5449, -0.3892, -0.5226, -0.3429,  0.4544, -0.2590, -0.0900, -0.6116,\n",
            "          0.0295, -0.2797, -0.0232, -0.0306],\n",
            "        [-0.5801,  0.3525,  0.0756, -0.0250,  0.2467, -0.4068, -0.3609, -0.1134,\n",
            "          0.5865, -0.2587, -0.2291,  0.2737,  0.3533, -0.5159,  0.1645, -0.1513,\n",
            "          0.1620, -0.7737, -0.1091,  0.0810]], grad_fn=<AddmmBackward0>)\n",
            "\n",
            "\n",
            "After ReLU : tensor([[0.0000, 0.5707, 0.0000, 0.3860, 0.4311, 0.0000, 0.0000, 0.0000, 0.7400,\n",
            "         0.0000, 0.0000, 0.0000, 0.2036, 0.0000, 0.0000, 0.0000, 0.5082, 0.0000,\n",
            "         0.0000, 0.2688],\n",
            "        [0.0000, 0.2843, 0.0000, 0.5132, 0.2956, 0.0000, 0.0000, 0.0000, 0.5449,\n",
            "         0.0000, 0.0000, 0.0000, 0.4544, 0.0000, 0.0000, 0.0000, 0.0295, 0.0000,\n",
            "         0.0000, 0.0000],\n",
            "        [0.0000, 0.3525, 0.0756, 0.0000, 0.2467, 0.0000, 0.0000, 0.0000, 0.5865,\n",
            "         0.0000, 0.0000, 0.2737, 0.3533, 0.0000, 0.1645, 0.0000, 0.1620, 0.0000,\n",
            "         0.0000, 0.0810]], grad_fn=<ReluBackward0>)\n"
          ]
        }
      ]
    },
    {
      "cell_type": "markdown",
      "source": [
        "### `nn.Sequential`\n",
        "* 순서를 갖는 모듈의 컨테이너 입니다\n",
        "* 순차 컨테이너를 사용하여 아래의 seq_modules와 같은 신경망을 빠르게 만들 수 있습니다"
      ],
      "metadata": {
        "id": "yYHuUR1KbsFm"
      }
    },
    {
      "cell_type": "code",
      "source": [
        "seq_modules = nn.Sequential(\n",
        "    flatten,\n",
        "    layer1,\n",
        "    nn.ReLU(),\n",
        "    nn.Linear(20, 10)\n",
        ")\n",
        "\n",
        "input_image = torch.rand(3, 28, 28)\n",
        "logits = seq_modules(input_image)"
      ],
      "metadata": {
        "id": "XZ5iqm9ybo4c"
      },
      "execution_count": 64,
      "outputs": []
    },
    {
      "cell_type": "markdown",
      "source": [
        "### `nn.Softmax`\n",
        "* 신경망의 마지막 선형 계층은 nn.Softmax 모듈에 전달된 logits을 반환합니다\n",
        "* logits는 모델의 각 분류(class)에 대한 예측 확률을 나타내도록 조정됩니다"
      ],
      "metadata": {
        "id": "JLU9M4A3b_J_"
      }
    },
    {
      "cell_type": "code",
      "source": [
        "softmax = nn.Softmax(dim=1)\n",
        "pred_probab = softmax(logits)"
      ],
      "metadata": {
        "id": "a67LKrGlb9p8"
      },
      "execution_count": 65,
      "outputs": []
    },
    {
      "cell_type": "markdown",
      "source": [
        "---\n",
        "\n",
        "# V. 모델 매개변수 최적화하기 (Optimization)\n",
        "* 모델과 데이터가 준비되면 모델을 학습하고, 검증하고, 테스트할 차례\n",
        "* 모델 학습 과정은 반복 과정을 거칩니다 (epoch)\n",
        "  * 출력을 추축\n",
        "  * 추측과 정답 사이의 오류(손실)를 계산\n",
        "  * 매개변수에 대한 오류 도함수를 수집\n",
        "  * 경사하강법을 통해 파라미터를 최적화"
      ],
      "metadata": {
        "id": "0ImVOu4FceA2"
      }
    },
    {
      "cell_type": "markdown",
      "source": [
        "## 기본 (pre-requisite) 코드"
      ],
      "metadata": {
        "id": "WKrEa71Ec0R7"
      }
    },
    {
      "cell_type": "code",
      "source": [
        "import torch\n",
        "from torch import nn\n",
        "from torch.utils.data import DataLoader\n",
        "from torchvision import datasets\n",
        "from torchvision.transforms import ToTensor, Lambda\n",
        "\n",
        "training_data = datasets.FashionMNIST(\n",
        "    root=\"data\",\n",
        "    train=True,\n",
        "    download=True,\n",
        "    transform=ToTensor()\n",
        ")\n",
        "\n",
        "test_data = datasets.FashionMNIST(\n",
        "    root=\"data\",\n",
        "    train=False,\n",
        "    download=True,\n",
        "    transform=ToTensor()\n",
        ")\n",
        "\n",
        "train_dataloader = DataLoader(training_data, batch_size=64)\n",
        "test_dataloader = DataLoader(test_data, batch_size=64)\n",
        "\n",
        "class NeuralNetwork(nn.Module):\n",
        "  def __init__(self):\n",
        "    super(NeuralNetwork, self).__init__()\n",
        "    self.flatten = nn.Flatten()\n",
        "    self.linear_relu_stack = nn.Sequential(\n",
        "        nn.Linear(28*28, 512),\n",
        "        nn.ReLU(),\n",
        "        nn.Linear(512, 512),\n",
        "        nn.ReLU(),\n",
        "        nn.Linear(512, 10)\n",
        "    )\n",
        "\n",
        "  def forward(self, x):\n",
        "    x = self.flatten(x)\n",
        "    logits = self.linear_relu_stack(x)\n",
        "    return logits\n",
        "\n",
        "model = NeuralNetwork()"
      ],
      "metadata": {
        "id": "x2irsRtIcNfv"
      },
      "execution_count": 68,
      "outputs": []
    },
    {
      "cell_type": "markdown",
      "source": [
        "## 하이퍼파라미터 (Hyper-parameter)\n",
        "* 모델 최적화 과정을 제어할 수 있는 조절가능한 매개변수\n",
        "  * epoch: 데이터셋을 반복하는 횟수\n",
        "  * batch size: 매개변수가 갱신되기 전 신경망을 통해 전파된 데이터 샘플의 수\n",
        "  * learning rate: 값이 작을수록 학습 속도가 느려지고, 값이 클 수록 예측하기 어려운 동작이 발생함"
      ],
      "metadata": {
        "id": "DPBeAjMzd6RY"
      }
    },
    {
      "cell_type": "code",
      "source": [
        "learning_rate = 1e-3\n",
        "batch_size = 64\n",
        "epochs = 5"
      ],
      "metadata": {
        "id": "NZ6NtxZmdXh0"
      },
      "execution_count": 69,
      "outputs": []
    },
    {
      "cell_type": "markdown",
      "source": [
        "## 최적화 단계 (Optimization)\n",
        "* 하나의 에폭은 다음의 두 부분으로 구성\n",
        "  * 학습 단계 (train loop): 학습용 데이터셋을 반복하고 최적의 매개변수로 수렴\n",
        "  * 검증/테스트 단계 (validataion/test loop): 모델 성능이 개선되고 있는지를 확인하기 위해 테스트 데이터 셋을 반복"
      ],
      "metadata": {
        "id": "M6wH0r0deRBB"
      }
    },
    {
      "cell_type": "markdown",
      "source": [
        "## 손실 함수 (Loss function)\n",
        "* 손실 함수는 획득한 결과와 실제 값 사이의 틀린 정도 (degree of dissimilarity)를 측정하며, 학습 중에 이 값을 최소화 하려고 함\n",
        "* 일반적인 손실함수에는\n",
        "  * 회귀 문제(regression task)에 사용하는 `nn.MESLoss`(평균 제곱 오차)\n",
        "  * 분류 문제(classification)에 사용하는 `nn.NLLoss`(음의 로그 우도(Negative Log Likelihood)\n",
        "  * 그리고 `nn.LogSoftmax`와 `nn.NLLoss`를 합친 `nn.CrossEntropyLoss`등이 있습니다"
      ],
      "metadata": {
        "id": "R9mNWMbSegk9"
      }
    },
    {
      "cell_type": "code",
      "source": [
        "loss_fn = nn.CrossEntropyLoss()"
      ],
      "metadata": {
        "id": "hipK4U5xeQZA"
      },
      "execution_count": 70,
      "outputs": []
    },
    {
      "cell_type": "markdown",
      "source": [
        "### 옵티마이저 (Optimizer)\n",
        "* 최적화 알고리즘은 이 과정이 수행되는 방식 (여기에서는 SGD; Stochastic Gradient Descent)\n",
        "* 모든 최적화 절차 (logic)는 optimizer 객체에 캡슐화 됩니다\n",
        "* 여기서는 SGD 옵티마이저를 사용하고 있으며, PyTorch에는 ADAM이나 RMSProp과 같은 다양한 옵티마이저가 있습니다"
      ],
      "metadata": {
        "id": "c6L6_qiKfBD4"
      }
    },
    {
      "cell_type": "code",
      "source": [
        "optimizer = torch.optim.SGD(model.parameters(), lr=learning_rate)"
      ],
      "metadata": {
        "id": "1r_Qeofce_0T"
      },
      "execution_count": 71,
      "outputs": []
    },
    {
      "cell_type": "markdown",
      "source": [
        "학습 단계(loop)에서 최적화는 세 단계로 이뤄집니다\n",
        "* `optimizer.zero_grad()`를 호출하여 모델 매개변수의 변화도를 재설정합니다\n",
        "  * 기본적으로 변화도는 더해지기(add up)때문에 반복할 때마다 명시적으로 0으로 설정합니다\n",
        "* `loss.backwards()`를 호출하여 예측 손실(prediction loss)을 역전파합니다\n",
        "* 변화도를 계산한 뒤에는 `optimizer.step()`을 호출하여 매개변수를 조정합니다"
      ],
      "metadata": {
        "id": "wIb6974QfaYx"
      }
    },
    {
      "cell_type": "markdown",
      "source": [
        "## 전체 구현"
      ],
      "metadata": {
        "id": "TfItC8THfwJ5"
      }
    },
    {
      "cell_type": "code",
      "source": [
        "def train_loop(dataloader, model, loss_fn, optimizer):\n",
        "  size = len(dataloader.dataset)\n",
        "  for batch, (X, y) in enumerate(dataloader):\n",
        "    # calculate prediction and loss\n",
        "    pred = model(X)\n",
        "    loss = loss_fn(pred, y)\n",
        "\n",
        "    # back-propagation\n",
        "    optimizer.zero_grad()\n",
        "    loss.backward()\n",
        "    optimizer.step()\n",
        "\n",
        "    if batch % 100 == 0:\n",
        "      loss, current = loss.item(), batch * len(X)\n",
        "      print(f\"loss: {loss:>7f} [{current:>5d}/{size:>5d}]\")\n",
        "\n",
        "def test_loop(dataloader, model, loss_fn):\n",
        "  size = len(dataloader.dataset)\n",
        "  num_batches = len(dataloader)\n",
        "  test_loss, correct = 0, 0\n",
        "\n",
        "  with torch.no_grad():\n",
        "      for X, y in dataloader:\n",
        "          pred = model(X)\n",
        "          test_loss += loss_fn(pred, y).item()\n",
        "          correct += (pred.argmax(1) == y).type(torch.float).sum().item()\n",
        "\n",
        "  test_loss /= num_batches\n",
        "  correct /= size\n",
        "  print(f\"Test Error: \\n Accuracy: {(100*correct):>0.1f}%, Avg loss: {test_loss:>8f} \\n\")"
      ],
      "metadata": {
        "id": "QE18vgvcfZA6"
      },
      "execution_count": 76,
      "outputs": []
    },
    {
      "cell_type": "code",
      "source": [
        "loss_fn = nn.CrossEntropyLoss()\n",
        "optimizer = torch.optim.SGD(model.parameters(), lr=learning_rate)\n",
        "\n",
        "epochs = 10\n",
        "for t in range(epochs):\n",
        "    print(f\"Epoch {t+1}\\n-------------------------------\")\n",
        "    train_loop(train_dataloader, model, loss_fn, optimizer)\n",
        "    test_loop(test_dataloader, model, loss_fn)\n",
        "print(\"Done!\")"
      ],
      "metadata": {
        "colab": {
          "base_uri": "https://localhost:8080/"
        },
        "id": "z07EZFh2gQoO",
        "outputId": "522cf2e6-142f-47ff-a2ac-53aad39a99c3"
      },
      "execution_count": 77,
      "outputs": [
        {
          "output_type": "stream",
          "name": "stdout",
          "text": [
            "Epoch 1\n",
            "-------------------------------\n",
            "loss: 2.174180 [    0/60000]\n",
            "loss: 2.165050 [ 6400/60000]\n",
            "loss: 2.112647 [12800/60000]\n",
            "loss: 2.131448 [19200/60000]\n",
            "loss: 2.070038 [25600/60000]\n",
            "loss: 2.024094 [32000/60000]\n",
            "loss: 2.051590 [38400/60000]\n",
            "loss: 1.977994 [44800/60000]\n",
            "loss: 1.985089 [51200/60000]\n",
            "loss: 1.909060 [57600/60000]\n",
            "Test Error: \n",
            " Accuracy: 59.1%, Avg loss: 1.910832 \n",
            "\n",
            "Epoch 2\n",
            "-------------------------------\n",
            "loss: 1.942696 [    0/60000]\n",
            "loss: 1.913199 [ 6400/60000]\n",
            "loss: 1.808179 [12800/60000]\n",
            "loss: 1.846999 [19200/60000]\n",
            "loss: 1.722490 [25600/60000]\n",
            "loss: 1.687854 [32000/60000]\n",
            "loss: 1.705100 [38400/60000]\n",
            "loss: 1.610773 [44800/60000]\n",
            "loss: 1.630824 [51200/60000]\n",
            "loss: 1.520256 [57600/60000]\n",
            "Test Error: \n",
            " Accuracy: 60.6%, Avg loss: 1.544536 \n",
            "\n",
            "Epoch 3\n",
            "-------------------------------\n",
            "loss: 1.609493 [    0/60000]\n",
            "loss: 1.571679 [ 6400/60000]\n",
            "loss: 1.435582 [12800/60000]\n",
            "loss: 1.498645 [19200/60000]\n",
            "loss: 1.363428 [25600/60000]\n",
            "loss: 1.375272 [32000/60000]\n",
            "loss: 1.379263 [38400/60000]\n",
            "loss: 1.310323 [44800/60000]\n",
            "loss: 1.340638 [51200/60000]\n",
            "loss: 1.235139 [57600/60000]\n",
            "Test Error: \n",
            " Accuracy: 62.8%, Avg loss: 1.269863 \n",
            "\n",
            "Epoch 4\n",
            "-------------------------------\n",
            "loss: 1.346387 [    0/60000]\n",
            "loss: 1.324361 [ 6400/60000]\n",
            "loss: 1.172358 [12800/60000]\n",
            "loss: 1.269606 [19200/60000]\n",
            "loss: 1.130690 [25600/60000]\n",
            "loss: 1.173154 [32000/60000]\n",
            "loss: 1.181453 [38400/60000]\n",
            "loss: 1.126500 [44800/60000]\n",
            "loss: 1.162108 [51200/60000]\n",
            "loss: 1.072195 [57600/60000]\n",
            "Test Error: \n",
            " Accuracy: 64.4%, Avg loss: 1.101498 \n",
            "\n",
            "Epoch 5\n",
            "-------------------------------\n",
            "loss: 1.172660 [    0/60000]\n",
            "loss: 1.169019 [ 6400/60000]\n",
            "loss: 1.001897 [12800/60000]\n",
            "loss: 1.128928 [19200/60000]\n",
            "loss: 0.988709 [25600/60000]\n",
            "loss: 1.040343 [32000/60000]\n",
            "loss: 1.062366 [38400/60000]\n",
            "loss: 1.011498 [44800/60000]\n",
            "loss: 1.046035 [51200/60000]\n",
            "loss: 0.971510 [57600/60000]\n",
            "Test Error: \n",
            " Accuracy: 65.9%, Avg loss: 0.993643 \n",
            "\n",
            "Epoch 6\n",
            "-------------------------------\n",
            "loss: 1.052760 [    0/60000]\n",
            "loss: 1.068473 [ 6400/60000]\n",
            "loss: 0.886231 [12800/60000]\n",
            "loss: 1.035081 [19200/60000]\n",
            "loss: 0.899138 [25600/60000]\n",
            "loss: 0.947527 [32000/60000]\n",
            "loss: 0.985641 [38400/60000]\n",
            "loss: 0.936653 [44800/60000]\n",
            "loss: 0.964092 [51200/60000]\n",
            "loss: 0.903563 [57600/60000]\n",
            "Test Error: \n",
            " Accuracy: 67.1%, Avg loss: 0.919765 \n",
            "\n",
            "Epoch 7\n",
            "-------------------------------\n",
            "loss: 0.963861 [    0/60000]\n",
            "loss: 0.998552 [ 6400/60000]\n",
            "loss: 0.803514 [12800/60000]\n",
            "loss: 0.968045 [19200/60000]\n",
            "loss: 0.839471 [25600/60000]\n",
            "loss: 0.879646 [32000/60000]\n",
            "loss: 0.932038 [38400/60000]\n",
            "loss: 0.886338 [44800/60000]\n",
            "loss: 0.903500 [51200/60000]\n",
            "loss: 0.854111 [57600/60000]\n",
            "Test Error: \n",
            " Accuracy: 68.2%, Avg loss: 0.866077 \n",
            "\n",
            "Epoch 8\n",
            "-------------------------------\n",
            "loss: 0.894870 [    0/60000]\n",
            "loss: 0.945939 [ 6400/60000]\n",
            "loss: 0.741270 [12800/60000]\n",
            "loss: 0.917217 [19200/60000]\n",
            "loss: 0.796564 [25600/60000]\n",
            "loss: 0.827817 [32000/60000]\n",
            "loss: 0.891285 [38400/60000]\n",
            "loss: 0.850945 [44800/60000]\n",
            "loss: 0.856814 [51200/60000]\n",
            "loss: 0.815810 [57600/60000]\n",
            "Test Error: \n",
            " Accuracy: 69.3%, Avg loss: 0.824988 \n",
            "\n",
            "Epoch 9\n",
            "-------------------------------\n",
            "loss: 0.839051 [    0/60000]\n",
            "loss: 0.904204 [ 6400/60000]\n",
            "loss: 0.692485 [12800/60000]\n",
            "loss: 0.877336 [19200/60000]\n",
            "loss: 0.763987 [25600/60000]\n",
            "loss: 0.787894 [32000/60000]\n",
            "loss: 0.858299 [38400/60000]\n",
            "loss: 0.824466 [44800/60000]\n",
            "loss: 0.819883 [51200/60000]\n",
            "loss: 0.784646 [57600/60000]\n",
            "Test Error: \n",
            " Accuracy: 70.6%, Avg loss: 0.792283 \n",
            "\n",
            "Epoch 10\n",
            "-------------------------------\n",
            "loss: 0.792649 [    0/60000]\n",
            "loss: 0.869322 [ 6400/60000]\n",
            "loss: 0.652968 [12800/60000]\n",
            "loss: 0.845537 [19200/60000]\n",
            "loss: 0.738099 [25600/60000]\n",
            "loss: 0.756321 [32000/60000]\n",
            "loss: 0.830128 [38400/60000]\n",
            "loss: 0.803694 [44800/60000]\n",
            "loss: 0.789760 [51200/60000]\n",
            "loss: 0.758340 [57600/60000]\n",
            "Test Error: \n",
            " Accuracy: 71.8%, Avg loss: 0.765153 \n",
            "\n",
            "Done!\n"
          ]
        }
      ]
    },
    {
      "cell_type": "code",
      "source": [
        "images, label = next(iter(test_dataloader))\n",
        "output = model(images)\n",
        "pred_probab = nn.Softmax(dim=1)(output)\n",
        "y_pred = pred_probab.argmax(1)\n",
        "\n",
        "print(y_pred)\n",
        "print(label)\n",
        "\n",
        "print(\"Accuracy : \", np.sum(y_pred.numpy() == label.numpy())/y_pred.size()*100)"
      ],
      "metadata": {
        "colab": {
          "base_uri": "https://localhost:8080/"
        },
        "id": "rOVTrs-7hInG",
        "outputId": "56652213-7429-4073-c6dd-a912cd56577f"
      },
      "execution_count": 101,
      "outputs": [
        {
          "output_type": "stream",
          "name": "stdout",
          "text": [
            "tensor([9, 2, 1, 1, 6, 1, 6, 4, 7, 7, 2, 5, 7, 3, 4, 1, 2, 2, 8, 0, 6, 7, 7, 7,\n",
            "        1, 2, 4, 3, 9, 3, 8, 8, 3, 3, 8, 0, 7, 7, 7, 9, 0, 1, 3, 9, 4, 9, 6, 1,\n",
            "        4, 2, 6, 2, 7, 6, 4, 6, 8, 4, 8, 0, 7, 7, 8, 5])\n",
            "tensor([9, 2, 1, 1, 6, 1, 4, 6, 5, 7, 4, 5, 7, 3, 4, 1, 2, 4, 8, 0, 2, 5, 7, 9,\n",
            "        1, 4, 6, 0, 9, 3, 8, 8, 3, 3, 8, 0, 7, 5, 7, 9, 6, 1, 3, 7, 6, 7, 2, 1,\n",
            "        2, 2, 4, 4, 5, 8, 2, 2, 8, 4, 8, 0, 7, 7, 8, 5])\n",
            "Accuracy :  [62.5]\n"
          ]
        }
      ]
    },
    {
      "cell_type": "code",
      "source": [
        ""
      ],
      "metadata": {
        "id": "1wDfBC0zhPBr"
      },
      "execution_count": 80,
      "outputs": []
    }
  ]
}